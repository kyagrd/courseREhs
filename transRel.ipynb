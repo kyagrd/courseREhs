{
 "cells": [
  {
   "cell_type": "markdown",
   "metadata": {},
   "source": [
    "```Prolog\n",
    "% Fact\n",
    "parent('범근', '두리').\n",
    "parent('두리', '철수').\n",
    "parent('순자', '철수').\n",
    "parent('철수', '돌이').\n",
    "parent('영희', '돌이').\n",
    "parent('철수', '민순').\n",
    "parent('영희', '민순').\n",
    "% Rule\n",
    "ancestor(A, X) :- parent(A, X).\n",
    "ancestor(A, X) :- parent(P, X), ancestor(A, P).\n",
    "grandparent(G, X) :- parent(G, P), parent(P, X).\n",
    "sibling(X, Y) :- parent(P, X), parent(P, Y), X\\=Y.\n",
    "```\n",
    "\n",
    "위와 같은 Prolog 프로그램에서 재귀적으로 정의된 `ancestor` 관계를 Haskell로 옮겨보자.\n",
    "\n",
    "참고로 관계를 하스켈에서 순서쌍의 리스트로 정의하는 방법에 대해서는 같은 저장소에 들어있는 Relation 노트북을 참고하면 좋다."
   ]
  },
  {
   "cell_type": "code",
   "execution_count": 10,
   "metadata": {},
   "outputs": [],
   "source": [
    "import Data.List\n",
    "\n",
    "parentRel = [(\"범근\", \"두리\"),\n",
    "             (\"두리\", \"철수\"),\n",
    "             (\"순자\", \"철수\"),\n",
    "             (\"철수\", \"돌이\"),\n",
    "             (\"영희\", \"돌이\"),\n",
    "             (\"철수\", \"민순\"),\n",
    "             (\"영희\", \"민순\")]\n",
    "\n",
    "printRel = mapM_ (\\(x,y) -> do{putStr x; putStr \", \"; putStrLn y})\n",
    "\n",
    "rel1 = parentRel\n",
    "rel2 = [(z,x) | (y,x) <- parentRel, (z,y')<-rel1, y==y']\n",
    "rel3 = [(z,x) | (y,x) <- parentRel, (z,y')<-rel2, y==y']\n",
    "rel4 = [(z,x) | (y,x) <- parentRel, (z,y')<-rel3, y==y']\n",
    "\n",
    "ancestorRelManual = rel1 `union` rel2 `union` rel3 `union` rel4\n",
    "\n",
    "ancestorRel = transitiveClosure parentRel"
   ]
  },
  {
   "cell_type": "code",
   "execution_count": 11,
   "metadata": {},
   "outputs": [
    {
     "data": {
      "text/plain": [
       "범근, 두리\n",
       "두리, 철수\n",
       "순자, 철수\n",
       "철수, 돌이\n",
       "영희, 돌이\n",
       "철수, 민순\n",
       "영희, 민순\n",
       "범근, 철수\n",
       "두리, 돌이\n",
       "순자, 돌이\n",
       "두리, 민순\n",
       "순자, 민순\n",
       "범근, 돌이\n",
       "범근, 민순"
      ]
     },
     "metadata": {},
     "output_type": "display_data"
    }
   ],
   "source": [
    "printRel ancestorRel"
   ]
  },
  {
   "cell_type": "code",
   "execution_count": 12,
   "metadata": {},
   "outputs": [
    {
     "data": {
      "text/plain": [
       "[7,5,2,0]"
      ]
     },
     "metadata": {},
     "output_type": "display_data"
    }
   ],
   "source": [
    "map length [rel1, rel2, rel3, rel4]"
   ]
  },
  {
   "cell_type": "code",
   "execution_count": 13,
   "metadata": {},
   "outputs": [],
   "source": [
    "transCl rel 1 = rel\n",
    "transCl rel n = [(z,x) | (y,x) <- rel, (z,y')<-transCl rel (n-1), y==y']"
   ]
  },
  {
   "cell_type": "code",
   "execution_count": 14,
   "metadata": {},
   "outputs": [
    {
     "data": {
      "text/plain": [
       "[7,5,2,0]"
      ]
     },
     "metadata": {},
     "output_type": "display_data"
    }
   ],
   "source": [
    "take 4 $ map (length . transCl parentRel) [1..]"
   ]
  },
  {
   "cell_type": "code",
   "execution_count": 15,
   "metadata": {},
   "outputs": [
    {
     "data": {
      "text/plain": [
       "[(\"\\48276\\44540\",\"\\46160\\47532\"),(\"\\46160\\47532\",\"\\52384\\49688\"),(\"\\49692\\51088\",\"\\52384\\49688\"),(\"\\52384\\49688\",\"\\46028\\51060\"),(\"\\50689\\55148\",\"\\46028\\51060\"),(\"\\52384\\49688\",\"\\48124\\49692\"),(\"\\50689\\55148\",\"\\48124\\49692\"),(\"\\48276\\44540\",\"\\52384\\49688\"),(\"\\46160\\47532\",\"\\46028\\51060\"),(\"\\49692\\51088\",\"\\46028\\51060\"),(\"\\46160\\47532\",\"\\48124\\49692\"),(\"\\49692\\51088\",\"\\48124\\49692\"),(\"\\48276\\44540\",\"\\46028\\51060\"),(\"\\48276\\44540\",\"\\48124\\49692\")]"
      ]
     },
     "metadata": {},
     "output_type": "display_data"
    },
    {
     "data": {
      "text/plain": [
       "범근, 두리\n",
       "두리, 철수\n",
       "순자, 철수\n",
       "철수, 돌이\n",
       "영희, 돌이\n",
       "철수, 민순\n",
       "영희, 민순\n",
       "범근, 철수\n",
       "두리, 돌이\n",
       "순자, 돌이\n",
       "두리, 민순\n",
       "순자, 민순\n",
       "범근, 돌이\n",
       "범근, 민순"
      ]
     },
     "metadata": {},
     "output_type": "display_data"
    }
   ],
   "source": [
    "foldr union [] $ takeWhile (not . null) $ map (transCl parentRel) [1..]\n",
    "printRel it"
   ]
  },
  {
   "cell_type": "code",
   "execution_count": 16,
   "metadata": {},
   "outputs": [],
   "source": [
    "transitiveClosure rel = foldr union []\n",
    "                      $ takeWhile (not . null)\n",
    "                      $ map (transCl rel) [1..]"
   ]
  },
  {
   "cell_type": "code",
   "execution_count": 17,
   "metadata": {},
   "outputs": [
    {
     "data": {
      "text/plain": [
       "범근, 두리\n",
       "두리, 철수\n",
       "순자, 철수\n",
       "철수, 돌이\n",
       "영희, 돌이\n",
       "철수, 민순\n",
       "영희, 민순\n",
       "범근, 철수\n",
       "두리, 돌이\n",
       "순자, 돌이\n",
       "두리, 민순\n",
       "순자, 민순\n",
       "범근, 돌이\n",
       "범근, 민순"
      ]
     },
     "metadata": {},
     "output_type": "display_data"
    }
   ],
   "source": [
    "printRel $ transitiveClosure parentRel"
   ]
  },
  {
   "cell_type": "code",
   "execution_count": 18,
   "metadata": {},
   "outputs": [],
   "source": [
    "pRel = [(\"민순\", \"범근\"),\n",
    "        (\"범근\", \"두리\"),\n",
    "        (\"두리\", \"철수\"),\n",
    "        (\"순자\", \"철수\"),\n",
    "        (\"철수\", \"돌이\"),\n",
    "        (\"영희\", \"돌이\"),\n",
    "        (\"철수\", \"민순\"),\n",
    "        (\"영희\", \"민순\")]\n",
    "\n",
    "printRel = mapM_ (\\(x,y) -> do{putStr x; putStr \", \"; putStrLn y})\n",
    "\n",
    "r1 = pRel\n",
    "r2 = [(z,x) | (y,x) <- pRel, (z,y')<-r1, y==y']\n",
    "r3 = [(z,x) | (y,x) <- pRel, (z,y')<-r2, y==y']\n",
    "r4 = [(z,x) | (y,x) <- pRel, (z,y')<-r3, y==y']\n",
    "r5 = [(z,x) | (y,x) <- pRel, (z,y')<-r4, y==y']\n",
    "r6 = [(z,x) | (y,x) <- pRel, (z,y')<-r5, y==y']\n",
    "\n",
    "-- ancestorRelManual = rel1 `union` rel2 `union` rel3 `union` rel4"
   ]
  },
  {
   "cell_type": "code",
   "execution_count": 19,
   "metadata": {},
   "outputs": [
    {
     "data": {
      "text/plain": [
       "[8,8,7,7,8,8]"
      ]
     },
     "metadata": {},
     "output_type": "display_data"
    }
   ],
   "source": [
    "map length [r1, r2, r3, r4, r5, r6]"
   ]
  },
  {
   "cell_type": "code",
   "execution_count": 32,
   "metadata": {},
   "outputs": [],
   "source": [
    "-- 싸이클을 포함한 관계의 전이 폐포 관계 만들기\n",
    "-- set: 지금까지 찾은 조상 관계를 다 모아 놓은 것\n",
    "\n",
    "transitive r = head [r1 | (r1,r2)<-zip tlist (tail tlist), r1==r2]\n",
    "  where\n",
    "  tlist = map (trans r r) [0..]\n",
    "\n",
    "trans set r 0 = set\n",
    "trans set r n = trans set1 r (n-1)\n",
    "   where set1 = set `union` [(z,x) | (y,x) <- r, (z,y')<-set, y==y']"
   ]
  },
  {
   "cell_type": "code",
   "execution_count": 33,
   "metadata": {},
   "outputs": [
    {
     "data": {
      "text/plain": [
       "8"
      ]
     },
     "metadata": {},
     "output_type": "display_data"
    },
    {
     "data": {
      "text/plain": [
       "16"
      ]
     },
     "metadata": {},
     "output_type": "display_data"
    },
    {
     "data": {
      "text/plain": [
       "23"
      ]
     },
     "metadata": {},
     "output_type": "display_data"
    },
    {
     "data": {
      "text/plain": [
       "30"
      ]
     },
     "metadata": {},
     "output_type": "display_data"
    },
    {
     "data": {
      "text/plain": [
       "30"
      ]
     },
     "metadata": {},
     "output_type": "display_data"
    },
    {
     "data": {
      "text/plain": [
       "30"
      ]
     },
     "metadata": {},
     "output_type": "display_data"
    }
   ],
   "source": [
    "length $ trans pRel pRel 0\n",
    "length $ trans pRel pRel 1\n",
    "length $ trans pRel pRel 2\n",
    "length $ trans pRel pRel 3\n",
    "length $ trans pRel pRel 4\n",
    "length $ trans pRel pRel 5"
   ]
  },
  {
   "cell_type": "code",
   "execution_count": 34,
   "metadata": {},
   "outputs": [
    {
     "data": {
      "text/plain": [
       "민순, 범근\n",
       "범근, 두리\n",
       "두리, 철수\n",
       "순자, 철수\n",
       "철수, 돌이\n",
       "영희, 돌이\n",
       "철수, 민순\n",
       "영희, 민순\n",
       "철수, 범근\n",
       "영희, 범근\n",
       "민순, 두리\n",
       "범근, 철수\n",
       "두리, 돌이\n",
       "순자, 돌이\n",
       "두리, 민순\n",
       "순자, 민순\n",
       "두리, 범근\n",
       "순자, 범근\n",
       "철수, 두리\n",
       "영희, 두리\n",
       "민순, 철수\n",
       "범근, 돌이\n",
       "범근, 민순\n",
       "범근, 범근\n",
       "두리, 두리\n",
       "순자, 두리\n",
       "철수, 철수\n",
       "영희, 철수\n",
       "민순, 돌이\n",
       "민순, 민순"
      ]
     },
     "metadata": {},
     "output_type": "display_data"
    }
   ],
   "source": [
    "printRel $ transitive pRel"
   ]
  },
  {
   "cell_type": "code",
   "execution_count": null,
   "metadata": {},
   "outputs": [],
   "source": []
  }
 ],
 "metadata": {
  "kernelspec": {
   "display_name": "Haskell",
   "language": "haskell",
   "name": "haskell"
  },
  "language_info": {
   "codemirror_mode": "ihaskell",
   "file_extension": ".hs",
   "name": "haskell",
   "pygments_lexer": "Haskell",
   "version": "8.4.4"
  }
 },
 "nbformat": 4,
 "nbformat_minor": 2
}

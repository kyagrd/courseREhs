{
 "cells": [
  {
   "cell_type": "markdown",
   "metadata": {},
   "source": [
    "```Prolog\n",
    "% Fact\n",
    "parent('범근', '두리').\n",
    "parent('두리', '철수').\n",
    "parent('순자', '철수').\n",
    "parent('철수', '돌이').\n",
    "parent('영희', '돌이').\n",
    "parent('철수', '민순').\n",
    "parent('영희', '민순').\n",
    "% Rule\n",
    "ancestor(A, X) :- parent(A, X).\n",
    "ancestor(A, X) :- parent(P, X), ancestor(A, P).\n",
    "```"
   ]
  },
  {
   "cell_type": "code",
   "execution_count": 37,
   "metadata": {},
   "outputs": [],
   "source": [
    "import Data.List\n",
    "\n",
    "parentRel = [(\"범근\", \"두리\"),\n",
    "             (\"두리\", \"철수\"),\n",
    "             (\"순자\", \"철수\"),\n",
    "             (\"철수\", \"돌이\"),\n",
    "             (\"영희\", \"돌이\"),\n",
    "             (\"철수\", \"민순\"),\n",
    "             (\"영희\", \"민순\")]\n",
    "\n",
    "printRel = mapM_ (\\(x,y) -> do{putStr x; putStr \", \"; putStrLn y})\n",
    "\n",
    "rel1 = parentRel\n",
    "rel2 = [(z,x) | (y,x) <- parentRel, (z,y')<-rel1, y==y']\n",
    "rel3 = [(z,x) | (y,x) <- parentRel, (z,y')<-rel2, y==y']\n",
    "rel4 = [(z,x) | (y,x) <- parentRel, (z,y')<-rel3, y==y']\n",
    "\n",
    "ancestorRelManual = rel1 `union` rel2 `union` rel3 `union` rel4\n",
    "\n",
    "-- ancestorRel = transitiveClosure parentRel"
   ]
  },
  {
   "cell_type": "code",
   "execution_count": 32,
   "metadata": {},
   "outputs": [
    {
     "data": {
      "text/plain": [
       "범근, 두리\n",
       "두리, 철수\n",
       "순자, 철수\n",
       "철수, 돌이\n",
       "영희, 돌이\n",
       "철수, 민순\n",
       "영희, 민순\n",
       "범근, 철수\n",
       "두리, 돌이\n",
       "순자, 돌이\n",
       "두리, 민순\n",
       "순자, 민순\n",
       "범근, 돌이\n",
       "범근, 민순"
      ]
     },
     "metadata": {},
     "output_type": "display_data"
    }
   ],
   "source": [
    "printRel ancestorRel"
   ]
  },
  {
   "cell_type": "code",
   "execution_count": 50,
   "metadata": {},
   "outputs": [
    {
     "data": {
      "text/plain": [
       "[7,5,2,0]"
      ]
     },
     "metadata": {},
     "output_type": "display_data"
    }
   ],
   "source": [
    "map length [rel1, rel2, rel3, rel4]"
   ]
  },
  {
   "cell_type": "code",
   "execution_count": 49,
   "metadata": {},
   "outputs": [],
   "source": [
    "transCl rel 1 = rel\n",
    "transCl rel n = [(z,x) | (y,x) <- rel, (z,y')<-transCl rel (n-1), y==y']"
   ]
  },
  {
   "cell_type": "code",
   "execution_count": 51,
   "metadata": {},
   "outputs": [
    {
     "data": {
      "text/plain": [
       "[7,5,2,0]"
      ]
     },
     "metadata": {},
     "output_type": "display_data"
    }
   ],
   "source": [
    "take 4 $ map (length . transCl parentRel) [1..]"
   ]
  },
  {
   "cell_type": "code",
   "execution_count": 52,
   "metadata": {},
   "outputs": [
    {
     "data": {
      "text/plain": [
       "[(\"\\48276\\44540\",\"\\46160\\47532\"),(\"\\46160\\47532\",\"\\52384\\49688\"),(\"\\49692\\51088\",\"\\52384\\49688\"),(\"\\52384\\49688\",\"\\46028\\51060\"),(\"\\50689\\55148\",\"\\46028\\51060\"),(\"\\52384\\49688\",\"\\48124\\49692\"),(\"\\50689\\55148\",\"\\48124\\49692\"),(\"\\48276\\44540\",\"\\52384\\49688\"),(\"\\46160\\47532\",\"\\46028\\51060\"),(\"\\49692\\51088\",\"\\46028\\51060\"),(\"\\46160\\47532\",\"\\48124\\49692\"),(\"\\49692\\51088\",\"\\48124\\49692\"),(\"\\48276\\44540\",\"\\46028\\51060\"),(\"\\48276\\44540\",\"\\48124\\49692\")]"
      ]
     },
     "metadata": {},
     "output_type": "display_data"
    },
    {
     "data": {
      "text/plain": [
       "범근, 두리\n",
       "두리, 철수\n",
       "순자, 철수\n",
       "철수, 돌이\n",
       "영희, 돌이\n",
       "철수, 민순\n",
       "영희, 민순\n",
       "범근, 철수\n",
       "두리, 돌이\n",
       "순자, 돌이\n",
       "두리, 민순\n",
       "순자, 민순\n",
       "범근, 돌이\n",
       "범근, 민순"
      ]
     },
     "metadata": {},
     "output_type": "display_data"
    }
   ],
   "source": [
    "foldr union [] $ takeWhile (not . null) $ map (transCl parentRel) [1..]\n",
    "printRel it"
   ]
  },
  {
   "cell_type": "code",
   "execution_count": 54,
   "metadata": {},
   "outputs": [],
   "source": [
    "transitiveClosure rel = foldr union []\n",
    "                      $ takeWhile (not . null)\n",
    "                      $ map (transCl rel) [1..]"
   ]
  },
  {
   "cell_type": "code",
   "execution_count": 55,
   "metadata": {},
   "outputs": [
    {
     "data": {
      "text/plain": [
       "범근, 두리\n",
       "두리, 철수\n",
       "순자, 철수\n",
       "철수, 돌이\n",
       "영희, 돌이\n",
       "철수, 민순\n",
       "영희, 민순\n",
       "범근, 철수\n",
       "두리, 돌이\n",
       "순자, 돌이\n",
       "두리, 민순\n",
       "순자, 민순\n",
       "범근, 돌이\n",
       "범근, 민순"
      ]
     },
     "metadata": {},
     "output_type": "display_data"
    }
   ],
   "source": [
    "printRel $ transitiveClosure parentRel"
   ]
  },
  {
   "cell_type": "code",
   "execution_count": null,
   "metadata": {},
   "outputs": [],
   "source": []
  }
 ],
 "metadata": {
  "kernelspec": {
   "display_name": "Haskell",
   "language": "haskell",
   "name": "haskell"
  },
  "language_info": {
   "codemirror_mode": "ihaskell",
   "file_extension": ".hs",
   "name": "haskell",
   "pygments_lexer": "Haskell",
   "version": "8.4.4"
  }
 },
 "nbformat": 4,
 "nbformat_minor": 2
}

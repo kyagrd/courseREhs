{
 "cells": [
  {
   "cell_type": "markdown",
   "metadata": {},
   "source": [
    "# cbvEval\n",
    "일단 LamCalc 노트북에서 정의했던 람다식 문법 데이타 타입과 출력을 위한 문자열 변환함수 등을 그대로 가져오자."
   ]
  },
  {
   "cell_type": "code",
   "execution_count": 1,
   "metadata": {},
   "outputs": [],
   "source": [
    "-- 변수 이름은 문자열 나타낸다\n",
    "type Nm = String\n",
    "\n",
    "-- 람다식 문법 구조\n",
    "data Tm = Var Nm | Lam Nm Tm | App Tm Tm  deriving (Show, Eq)\n",
    "\n",
    "-- 람다식을 보기좋게 문자열로 변환해주는 함수\n",
    "ppTm (Var x) = x\n",
    "ppTm (Lam x t) = \"\\\\\" ++ x ++ \" -> \" ++ ppTm t\n",
    "ppTm (App t s) = ppt t ++ \" \" ++ pps s\n",
    "  where\n",
    "  ppt t@(Lam{}) = paren (ppTm t)\n",
    "  ppt t         = ppTm t\n",
    "  pps s@(Var{}) = ppTm s\n",
    "  pps s         = paren (ppTm s)\n",
    "\n",
    "paren s = \"(\" ++ s ++ \")\""
   ]
  },
  {
   "cell_type": "code",
   "execution_count": 2,
   "metadata": {},
   "outputs": [
    {
     "data": {
      "text/plain": [
       "x"
      ]
     },
     "metadata": {},
     "output_type": "display_data"
    },
    {
     "data": {
      "text/plain": [
       "\\x -> x"
      ]
     },
     "metadata": {},
     "output_type": "display_data"
    },
    {
     "data": {
      "text/plain": [
       "(\\x -> x) (\\x -> x)"
      ]
     },
     "metadata": {},
     "output_type": "display_data"
    },
    {
     "data": {
      "text/plain": [
       "(\\x -> \\y -> x) u w"
      ]
     },
     "metadata": {},
     "output_type": "display_data"
    }
   ],
   "source": [
    "idTm = Lam \"x\" (Var \"x\")\n",
    "ttTm = Lam \"x\" (Lam \"y\" (Var \"x\")) \n",
    "ffTm = Lam \"x\" (Lam \"y\" (Var \"y\")) \n",
    "\n",
    "putStr . ppTm $ Var \"x\"\n",
    "putStr . ppTm $ idTm\n",
    "putStr . ppTm $ App idTm idTm\n",
    "putStr . ppTm $ App (App ttTm (Var \"u\")) (Var \"w\")"
   ]
  },
  {
   "cell_type": "code",
   "execution_count": 3,
   "metadata": {},
   "outputs": [
    {
     "data": {
      "text/html": [
       "<style>/* Styles used for the Hoogle display in the pager */\n",
       ".hoogle-doc {\n",
       "display: block;\n",
       "padding-bottom: 1.3em;\n",
       "padding-left: 0.4em;\n",
       "}\n",
       ".hoogle-code {\n",
       "display: block;\n",
       "font-family: monospace;\n",
       "white-space: pre;\n",
       "}\n",
       ".hoogle-text {\n",
       "display: block;\n",
       "}\n",
       ".hoogle-name {\n",
       "color: green;\n",
       "font-weight: bold;\n",
       "}\n",
       ".hoogle-head {\n",
       "font-weight: bold;\n",
       "}\n",
       ".hoogle-sub {\n",
       "display: block;\n",
       "margin-left: 0.4em;\n",
       "}\n",
       ".hoogle-package {\n",
       "font-weight: bold;\n",
       "font-style: italic;\n",
       "}\n",
       ".hoogle-module {\n",
       "font-weight: bold;\n",
       "}\n",
       ".hoogle-class {\n",
       "font-weight: bold;\n",
       "}\n",
       ".get-type {\n",
       "color: green;\n",
       "font-weight: bold;\n",
       "font-family: monospace;\n",
       "display: block;\n",
       "white-space: pre-wrap;\n",
       "}\n",
       ".show-type {\n",
       "color: green;\n",
       "font-weight: bold;\n",
       "font-family: monospace;\n",
       "margin-left: 1em;\n",
       "}\n",
       ".mono {\n",
       "font-family: monospace;\n",
       "display: block;\n",
       "}\n",
       ".err-msg {\n",
       "color: red;\n",
       "font-style: italic;\n",
       "font-family: monospace;\n",
       "white-space: pre;\n",
       "display: block;\n",
       "}\n",
       "#unshowable {\n",
       "color: red;\n",
       "font-weight: bold;\n",
       "}\n",
       ".err-msg.in.collapse {\n",
       "padding-top: 0.7em;\n",
       "}\n",
       ".highlight-code {\n",
       "white-space: pre;\n",
       "font-family: monospace;\n",
       "}\n",
       ".suggestion-warning { \n",
       "font-weight: bold;\n",
       "color: rgb(200, 130, 0);\n",
       "}\n",
       ".suggestion-error { \n",
       "font-weight: bold;\n",
       "color: red;\n",
       "}\n",
       ".suggestion-name {\n",
       "font-weight: bold;\n",
       "}\n",
       "</style><div class=\"suggestion-name\" style=\"clear:both;\">Use id</div><div class=\"suggestion-row\" style=\"float: left;\"><div class=\"suggestion-warning\">Found:</div><div class=\"highlight-code\" id=\"haskell\">\\ x -> x</div></div><div class=\"suggestion-row\" style=\"float: left;\"><div class=\"suggestion-warning\">Why Not:</div><div class=\"highlight-code\" id=\"haskell\">id</div></div><div class=\"suggestion-name\" style=\"clear:both;\">Use id</div><div class=\"suggestion-row\" style=\"float: left;\"><div class=\"suggestion-warning\">Found:</div><div class=\"highlight-code\" id=\"haskell\">\\ x -> x</div></div><div class=\"suggestion-row\" style=\"float: left;\"><div class=\"suggestion-warning\">Why Not:</div><div class=\"highlight-code\" id=\"haskell\">id</div></div>"
      ],
      "text/plain": [
       "Line 1: Use id\n",
       "Found:\n",
       "\\ x -> x\n",
       "Why not:\n",
       "idLine 1: Use id\n",
       "Found:\n",
       "\\ x -> x\n",
       "Why not:\n",
       "id"
      ]
     },
     "metadata": {},
     "output_type": "display_data"
    },
    {
     "data": {
      "text/plain": [
       "\"z\""
      ]
     },
     "metadata": {},
     "output_type": "display_data"
    }
   ],
   "source": [
    "-- 하스켈에서 그대로 붙여넣으면 실행도 어느 정도 가능하게\n",
    "let z = \"z\" in (\\x -> x) ((\\x -> x) z)"
   ]
  },
  {
   "cell_type": "code",
   "execution_count": 4,
   "metadata": {},
   "outputs": [
    {
     "data": {
      "text/html": [
       "<style>/* Styles used for the Hoogle display in the pager */\n",
       ".hoogle-doc {\n",
       "display: block;\n",
       "padding-bottom: 1.3em;\n",
       "padding-left: 0.4em;\n",
       "}\n",
       ".hoogle-code {\n",
       "display: block;\n",
       "font-family: monospace;\n",
       "white-space: pre;\n",
       "}\n",
       ".hoogle-text {\n",
       "display: block;\n",
       "}\n",
       ".hoogle-name {\n",
       "color: green;\n",
       "font-weight: bold;\n",
       "}\n",
       ".hoogle-head {\n",
       "font-weight: bold;\n",
       "}\n",
       ".hoogle-sub {\n",
       "display: block;\n",
       "margin-left: 0.4em;\n",
       "}\n",
       ".hoogle-package {\n",
       "font-weight: bold;\n",
       "font-style: italic;\n",
       "}\n",
       ".hoogle-module {\n",
       "font-weight: bold;\n",
       "}\n",
       ".hoogle-class {\n",
       "font-weight: bold;\n",
       "}\n",
       ".get-type {\n",
       "color: green;\n",
       "font-weight: bold;\n",
       "font-family: monospace;\n",
       "display: block;\n",
       "white-space: pre-wrap;\n",
       "}\n",
       ".show-type {\n",
       "color: green;\n",
       "font-weight: bold;\n",
       "font-family: monospace;\n",
       "margin-left: 1em;\n",
       "}\n",
       ".mono {\n",
       "font-family: monospace;\n",
       "display: block;\n",
       "}\n",
       ".err-msg {\n",
       "color: red;\n",
       "font-style: italic;\n",
       "font-family: monospace;\n",
       "white-space: pre;\n",
       "display: block;\n",
       "}\n",
       "#unshowable {\n",
       "color: red;\n",
       "font-weight: bold;\n",
       "}\n",
       ".err-msg.in.collapse {\n",
       "padding-top: 0.7em;\n",
       "}\n",
       ".highlight-code {\n",
       "white-space: pre;\n",
       "font-family: monospace;\n",
       "}\n",
       ".suggestion-warning { \n",
       "font-weight: bold;\n",
       "color: rgb(200, 130, 0);\n",
       "}\n",
       ".suggestion-error { \n",
       "font-weight: bold;\n",
       "color: red;\n",
       "}\n",
       ".suggestion-name {\n",
       "font-weight: bold;\n",
       "}\n",
       "</style><code>λy.(λx.x) ((λx.x) y)</code>"
      ]
     },
     "metadata": {},
     "output_type": "display_data"
    }
   ],
   "source": [
    "-- 좀더 예쁘게 유니코드의 그리스 문자 람다 등과 색상 등을 이용해 보여주는 함수들\n",
    "import IHaskell.Display\n",
    "\n",
    "dispTm t = Display [html(\"<code>\"++dpTm t++\"</code>\")]\n",
    "\n",
    "dpTm (Var x) = x\n",
    "dpTm (Lam x t) = \"λ\" ++ x ++ \".\" ++ dpTm t\n",
    "dpTm (App t s) = dpt t ++ \" \" ++ dps s\n",
    "  where\n",
    "  dpt t@(Lam{}) = paren (dpTm t)\n",
    "  dpt t         = dpTm t\n",
    "  dps s@(Var{}) = dpTm s\n",
    "  dps s         = paren (dpTm s)\n",
    "\n",
    "dispTm $ Lam \"y\" (App idTm (App idTm (Var \"y\")))"
   ]
  },
  {
   "cell_type": "code",
   "execution_count": 5,
   "metadata": {},
   "outputs": [
    {
     "data": {
      "text/plain": [
       "λy.(λx.x) ((λx.x) y)"
      ]
     },
     "metadata": {},
     "output_type": "display_data"
    }
   ],
   "source": [
    "putStrLn $ dpTm $ Lam \"y\" (App idTm (App idTm (Var \"y\")))"
   ]
  },
  {
   "cell_type": "markdown",
   "metadata": {},
   "source": [
    "# 람다식의 call-by-value evaluation\n",
    "call-by-value evaluation (줄여서 CVB evaluation)은\n",
    "적극적 계산법(eager evaluation)이라고 부르기도 한다.\n",
    "\n",
    "람다식의 적극적 계산법을 아래와 같은 표기법을 써서 정의할 수 있다.\n",
    "\n",
    "$\\displaystyle\\begin{array}{rcrcl}\n",
    "\\sigma&\\in&\\textit{Env} &=&\n",
    "\\textit{Nm} \\longrightarrow^{\\hspace{-2.7ex}\\textrm{fin}} \\textit{Val} \\\\\n",
    "(\\lambda x.t,\\sigma)&\\in&\\textit{Val} &=& \\textit{Tm}_V \\times Env\n",
    "\\end{array}$\n",
    "\n",
    "$\\displaystyle\\begin{array}{rcl}\n",
    "\\textit{Tm}_V &\\subset& Tm\\\\\n",
    "\\textit{Tm}_V &=& \\{ \\lambda x.t \\mid x\\in\\textit{Nm}, t\\in\\textit{Tm}\\}\n",
    "\\end{array}$\n",
    "\n",
    "$~$\n",
    "\n",
    "$\\displaystyle\\Downarrow ~:~ Tm\\times Env \\to Val $\n",
    "\n",
    "$\\displaystyle\\frac{}{(x, \\sigma) \\Downarrow \\sigma(x)} \n",
    "\\quad\n",
    " \\displaystyle\\frac{}{(\\lambda x.t, \\sigma) \\Downarrow \\langle\\lambda x.t, \\sigma\\rangle}\n",
    "\\quad\n",
    " \\displaystyle\\frac{~\n",
    "   \\begin{array}{l}\n",
    "   (t_1,\\sigma) \\Downarrow \\langle\\lambda x.t, \\sigma_1\\rangle \\\\\n",
    "   (t_2,\\sigma) \\Downarrow v_2 \\\\\n",
    "   (t, \\{x\\mapsto v_2\\}\\sigma_1) \\Downarrow v\n",
    "   \\end{array}~}{\n",
    "   (t_1~t_2, \\sigma) \\Downarrow v}$\n",
    "\n",
    "위의 표기법은 비유하자면 $y = f(x)$라고 쓰는 대신에 $f(x)$를 기계적인 규칙을 따라 계속 계산을 돌리다 보면 $y$라는 값에 도달한다는 의미로 $f(x) \\Downarrow v$라는 식으로 표시하는 것이다. 그리고 바로 람다식의 적극적 계산법을 위한 기계적인 규칙이 위에 나와 있는 세 가지 규칙이다."
   ]
  },
  {
   "cell_type": "code",
   "execution_count": 6,
   "metadata": {},
   "outputs": [
    {
     "data": {
      "text/html": [
       "<style>/* Styles used for the Hoogle display in the pager */\n",
       ".hoogle-doc {\n",
       "display: block;\n",
       "padding-bottom: 1.3em;\n",
       "padding-left: 0.4em;\n",
       "}\n",
       ".hoogle-code {\n",
       "display: block;\n",
       "font-family: monospace;\n",
       "white-space: pre;\n",
       "}\n",
       ".hoogle-text {\n",
       "display: block;\n",
       "}\n",
       ".hoogle-name {\n",
       "color: green;\n",
       "font-weight: bold;\n",
       "}\n",
       ".hoogle-head {\n",
       "font-weight: bold;\n",
       "}\n",
       ".hoogle-sub {\n",
       "display: block;\n",
       "margin-left: 0.4em;\n",
       "}\n",
       ".hoogle-package {\n",
       "font-weight: bold;\n",
       "font-style: italic;\n",
       "}\n",
       ".hoogle-module {\n",
       "font-weight: bold;\n",
       "}\n",
       ".hoogle-class {\n",
       "font-weight: bold;\n",
       "}\n",
       ".get-type {\n",
       "color: green;\n",
       "font-weight: bold;\n",
       "font-family: monospace;\n",
       "display: block;\n",
       "white-space: pre-wrap;\n",
       "}\n",
       ".show-type {\n",
       "color: green;\n",
       "font-weight: bold;\n",
       "font-family: monospace;\n",
       "margin-left: 1em;\n",
       "}\n",
       ".mono {\n",
       "font-family: monospace;\n",
       "display: block;\n",
       "}\n",
       ".err-msg {\n",
       "color: red;\n",
       "font-style: italic;\n",
       "font-family: monospace;\n",
       "white-space: pre;\n",
       "display: block;\n",
       "}\n",
       "#unshowable {\n",
       "color: red;\n",
       "font-weight: bold;\n",
       "}\n",
       ".err-msg.in.collapse {\n",
       "padding-top: 0.7em;\n",
       "}\n",
       ".highlight-code {\n",
       "white-space: pre;\n",
       "font-family: monospace;\n",
       "}\n",
       ".suggestion-warning { \n",
       "font-weight: bold;\n",
       "color: rgb(200, 130, 0);\n",
       "}\n",
       ".suggestion-error { \n",
       "font-weight: bold;\n",
       "color: red;\n",
       "}\n",
       ".suggestion-name {\n",
       "font-weight: bold;\n",
       "}\n",
       "</style><span class='get-type'>eval :: Tm -> Env -> Val</span>"
      ],
      "text/plain": [
       "eval :: Tm -> Env -> Val"
      ]
     },
     "metadata": {},
     "output_type": "display_data"
    },
    {
     "data": {
      "text/html": [
       "<style>/* Styles used for the Hoogle display in the pager */\n",
       ".hoogle-doc {\n",
       "display: block;\n",
       "padding-bottom: 1.3em;\n",
       "padding-left: 0.4em;\n",
       "}\n",
       ".hoogle-code {\n",
       "display: block;\n",
       "font-family: monospace;\n",
       "white-space: pre;\n",
       "}\n",
       ".hoogle-text {\n",
       "display: block;\n",
       "}\n",
       ".hoogle-name {\n",
       "color: green;\n",
       "font-weight: bold;\n",
       "}\n",
       ".hoogle-head {\n",
       "font-weight: bold;\n",
       "}\n",
       ".hoogle-sub {\n",
       "display: block;\n",
       "margin-left: 0.4em;\n",
       "}\n",
       ".hoogle-package {\n",
       "font-weight: bold;\n",
       "font-style: italic;\n",
       "}\n",
       ".hoogle-module {\n",
       "font-weight: bold;\n",
       "}\n",
       ".hoogle-class {\n",
       "font-weight: bold;\n",
       "}\n",
       ".get-type {\n",
       "color: green;\n",
       "font-weight: bold;\n",
       "font-family: monospace;\n",
       "display: block;\n",
       "white-space: pre-wrap;\n",
       "}\n",
       ".show-type {\n",
       "color: green;\n",
       "font-weight: bold;\n",
       "font-family: monospace;\n",
       "margin-left: 1em;\n",
       "}\n",
       ".mono {\n",
       "font-family: monospace;\n",
       "display: block;\n",
       "}\n",
       ".err-msg {\n",
       "color: red;\n",
       "font-style: italic;\n",
       "font-family: monospace;\n",
       "white-space: pre;\n",
       "display: block;\n",
       "}\n",
       "#unshowable {\n",
       "color: red;\n",
       "font-weight: bold;\n",
       "}\n",
       ".err-msg.in.collapse {\n",
       "padding-top: 0.7em;\n",
       "}\n",
       ".highlight-code {\n",
       "white-space: pre;\n",
       "font-family: monospace;\n",
       "}\n",
       ".suggestion-warning { \n",
       "font-weight: bold;\n",
       "color: rgb(200, 130, 0);\n",
       "}\n",
       ".suggestion-error { \n",
       "font-weight: bold;\n",
       "color: red;\n",
       "}\n",
       ".suggestion-name {\n",
       "font-weight: bold;\n",
       "}\n",
       "</style><span class='get-type'>uncurry eval :: (Tm, Env) -> Val</span>"
      ],
      "text/plain": [
       "uncurry eval :: (Tm, Env) -> Val"
      ]
     },
     "metadata": {},
     "output_type": "display_data"
    },
    {
     "data": {
      "text/plain": [
       "Cl (Lam \"x\" (Var \"x\")) []"
      ]
     },
     "metadata": {},
     "output_type": "display_data"
    }
   ],
   "source": [
    "-- finite mapping을 순서쌍 리스트 타입으로 정의\n",
    "type Env = [(Nm, Val)]\n",
    "-- Tm_V를 따로 정의하지 않고 그냥 Tm을 이용해 정의\n",
    "data Val = Cl Tm Env  deriving Show\n",
    "\n",
    "-- simga(x)에 해당하는 것이 lookup x simga\n",
    "lookup' x env  = v  where Just v = lookup x env\n",
    "\n",
    "eval :: Tm -> Env -> Val\n",
    "eval v@(Lam x t) env = Cl v env\n",
    "eval (Var x)     env = lookup' x env\n",
    "eval (App t1 t2) env = eval t ((x,v2):env1)\n",
    "  where\n",
    "    Cl (Lam x t) env1 = eval t1 env\n",
    "    v2                = eval t2 env\n",
    "\n",
    ":type eval\n",
    ":type uncurry eval\n",
    "\n",
    "eval (App (Lam \"x\" (Var \"x\")) (Lam \"x\" (Var \"x\"))) []"
   ]
  },
  {
   "cell_type": "code",
   "execution_count": null,
   "metadata": {},
   "outputs": [],
   "source": []
  }
 ],
 "metadata": {
  "kernelspec": {
   "display_name": "Haskell",
   "language": "haskell",
   "name": "haskell"
  },
  "language_info": {
   "codemirror_mode": "ihaskell",
   "file_extension": ".hs",
   "name": "haskell",
   "pygments_lexer": "Haskell",
   "version": "8.2.2"
  }
 },
 "nbformat": 4,
 "nbformat_minor": 1
}

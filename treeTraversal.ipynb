{
 "cells": [
  {
   "cell_type": "markdown",
   "metadata": {},
   "source": [
    "# hw4 나무 구조에 대한 함수형 프로그래밍 좀더 (제출기한 11/5 밤, 6점)\n",
    "\n",
    "* 과목: 프로그래밍언어\n",
    "* 이름: \n",
    "* 학번:\n",
    "\n",
    "이후에 나오는 다음 세 함수의 정의를 완성하고,\n",
    "완성한 각각의 함수가 해당 나무구조에 대해 올바른 동작을 하는 것을 보여주는 테스트 케이스를 최소한 하나씩 실행해 보라.\n",
    "```haskell\n",
    "preOrder :: Tree a -> [a]   -- 1점\n",
    "\n",
    "lvOrd2 :: Tree2 a -> [[a]]  -- 2점\n",
    "\n",
    "lvOrd :: Tree a -> [[a]]    -- 3점\n",
    "```"
   ]
  },
  {
   "cell_type": "code",
   "execution_count": 1,
   "metadata": {},
   "outputs": [],
   "source": [
    "-- 이진트리\n",
    "data Tree2 a\n",
    "  = Null2\n",
    "  | Node2 a (Tree2 a) (Tree2 a)\n",
    "  deriving Show\n",
    "\n",
    "-- 임의 개수 가지치는 나무\n",
    "data Tree a = Node a [Tree a]  deriving Show"
   ]
  },
  {
   "cell_type": "code",
   "execution_count": 2,
   "metadata": {},
   "outputs": [],
   "source": [
    "-- Tree2의 중위순서(inorder)로 원소를 나열하는 리스트를 계산하자\n",
    "inOrder2 :: Tree2 a -> [a]\n",
    "inOrder2 Null2           = []\n",
    "inOrder2 (Node2 x t1 t2) = inOrder2 t1 ++ [x] ++ inOrder2 t2"
   ]
  },
  {
   "cell_type": "code",
   "execution_count": 3,
   "metadata": {},
   "outputs": [],
   "source": [
    "-- Tree2의 전위순서(preorder)로 원소를 나열하는 리스트를 계산하자\n",
    "preOrder2 :: Tree2 a -> [a]\n",
    "preOrder2 Null2           = []\n",
    "preOrder2 (Node2 x t1 t2) = x : preOrder2 t1 ++ preOrder2 t2"
   ]
  },
  {
   "cell_type": "code",
   "execution_count": 4,
   "metadata": {},
   "outputs": [
    {
     "data": {
      "text/plain": [
       "[4,2,5,1,6,3,7]"
      ]
     },
     "metadata": {},
     "output_type": "display_data"
    },
    {
     "data": {
      "text/plain": [
       "[1,2,4,5,3,6,7]"
      ]
     },
     "metadata": {},
     "output_type": "display_data"
    }
   ],
   "source": [
    "tree2 = Node2 1\n",
    "          (Node2 2 (Node2 4 Null2 Null2)\n",
    "                   (Node2 5 Null2 Null2))\n",
    "          (Node2 3 (Node2 6 Null2 Null2)\n",
    "                   (Node2 7 Null2 Null2))\n",
    "\n",
    "inOrder2 tree2\n",
    "\n",
    "preOrder2 tree2"
   ]
  },
  {
   "cell_type": "code",
   "execution_count": 7,
   "metadata": {},
   "outputs": [],
   "source": [
    "-- Null2가 아닌 Tree2를 Tree로 변환\n",
    "fromTree2toTree Null2 = error \"Null2 cannot be Tree\"\n",
    "fromTree2toTree (Node2 x t1 t2) = Node x ts\n",
    "  where\n",
    "  ts = case (t1, t2) of\n",
    "         (Null2, Null2) -> []\n",
    "         (Null2, _    ) -> [t2']\n",
    "         (_,     Null2) -> [t1']\n",
    "         (_,     _    ) -> [t1',t2']    \n",
    "  t1' = fromTree2toTree t1\n",
    "  t2' = fromTree2toTree t2"
   ]
  },
  {
   "cell_type": "code",
   "execution_count": 8,
   "metadata": {},
   "outputs": [],
   "source": [
    "-- 위 함수를 case를 쓰는 대신에 좀더 깔끔하게 정리해\n",
    "-- 똑같은 계산을 하는 함수를 다음과 같이 정의할 수 있다\n",
    "fromTree2toTree Null2 = error \"Null2 cannot be Tree\"\n",
    "fromTree2toTree (Node2 x Null2 Null2) = Node x []\n",
    "fromTree2toTree (Node2 x Null2 t2) = Node x [fromTree2toTree t2]\n",
    "fromTree2toTree (Node2 x t1 Null2) = Node x [fromTree2toTree t1]\n",
    "fromTree2toTree (Node2 x t1 t2) = Node x [fromTree2toTree t1, fromTree2toTree t2]"
   ]
  },
  {
   "cell_type": "code",
   "execution_count": 9,
   "metadata": {},
   "outputs": [
    {
     "data": {
      "text/plain": [
       "Node 1 [Node 2 [Node 4 [],Node 5 []],Node 3 [Node 6 [],Node 7 []]]"
      ]
     },
     "metadata": {},
     "output_type": "display_data"
    }
   ],
   "source": [
    "tree = fromTree2toTree tree2\n",
    "\n",
    "tree"
   ]
  },
  {
   "cell_type": "markdown",
   "metadata": {},
   "source": [
    "# hw4 나무 구조에 대한 함수형 프로그래밍 좀더 (제출기한 11/5 밤, 6점)\n",
    "이후에 나오는 다음 세 함수의 정의를 완성하고,\n",
    "완성한 각각의 함수가 해당 나무구조에 대해 올바른 동작을 하는 것을 보여주는 테스트 케이스를 최소한 하나씩 실행해 보라.\n",
    "```haskell\n",
    "preOrder :: Tree a -> [a]   -- 1점\n",
    "\n",
    "lvOrd2 :: Tree2 a -> [[a]]  -- 2점\n",
    "\n",
    "lvOrd :: Tree a -> [[a]]    -- 3점\n",
    "```"
   ]
  },
  {
   "cell_type": "markdown",
   "metadata": {},
   "source": [
    "## 임의 개수로 가지치는 나무구조에 대한 전위 탐색"
   ]
  },
  {
   "cell_type": "markdown",
   "metadata": {},
   "source": [
    "아래는 Tree의 전위(preorder) 탐색 순서대로 나열한 리스트를 계산하는 함수를 정의하려는 시도이다.\n",
    "정답에 가깝지만 타입 오류가 난다. 타입 오류의 원인이 무엇인지 생각해 보고 프로그램을 올바르게 수정하라."
   ]
  },
  {
   "cell_type": "code",
   "execution_count": 10,
   "metadata": {},
   "outputs": [
    {
     "data": {
      "text/html": [
       "<style>/* Styles used for the Hoogle display in the pager */\n",
       ".hoogle-doc {\n",
       "display: block;\n",
       "padding-bottom: 1.3em;\n",
       "padding-left: 0.4em;\n",
       "}\n",
       ".hoogle-code {\n",
       "display: block;\n",
       "font-family: monospace;\n",
       "white-space: pre;\n",
       "}\n",
       ".hoogle-text {\n",
       "display: block;\n",
       "}\n",
       ".hoogle-name {\n",
       "color: green;\n",
       "font-weight: bold;\n",
       "}\n",
       ".hoogle-head {\n",
       "font-weight: bold;\n",
       "}\n",
       ".hoogle-sub {\n",
       "display: block;\n",
       "margin-left: 0.4em;\n",
       "}\n",
       ".hoogle-package {\n",
       "font-weight: bold;\n",
       "font-style: italic;\n",
       "}\n",
       ".hoogle-module {\n",
       "font-weight: bold;\n",
       "}\n",
       ".hoogle-class {\n",
       "font-weight: bold;\n",
       "}\n",
       ".get-type {\n",
       "color: green;\n",
       "font-weight: bold;\n",
       "font-family: monospace;\n",
       "display: block;\n",
       "white-space: pre-wrap;\n",
       "}\n",
       ".show-type {\n",
       "color: green;\n",
       "font-weight: bold;\n",
       "font-family: monospace;\n",
       "margin-left: 1em;\n",
       "}\n",
       ".mono {\n",
       "font-family: monospace;\n",
       "display: block;\n",
       "}\n",
       ".err-msg {\n",
       "color: red;\n",
       "font-style: italic;\n",
       "font-family: monospace;\n",
       "white-space: pre;\n",
       "display: block;\n",
       "}\n",
       "#unshowable {\n",
       "color: red;\n",
       "font-weight: bold;\n",
       "}\n",
       ".err-msg.in.collapse {\n",
       "padding-top: 0.7em;\n",
       "}\n",
       ".highlight-code {\n",
       "white-space: pre;\n",
       "font-family: monospace;\n",
       "}\n",
       ".suggestion-warning { \n",
       "font-weight: bold;\n",
       "color: rgb(200, 130, 0);\n",
       "}\n",
       ".suggestion-error { \n",
       "font-weight: bold;\n",
       "color: red;\n",
       "}\n",
       ".suggestion-name {\n",
       "font-weight: bold;\n",
       "}\n",
       "</style><span class='err-msg'>&lt;interactive&gt;:2:29: error:<br/>    • Couldn't match expected type ‘a’ with actual type ‘[a]’<br/>      ‘a’ is a rigid type variable bound by<br/>        the type signature for:<br/>          preOrder :: forall a. Tree a -&gt; [a]<br/>        at &lt;interactive&gt;:1:1-25<br/>    • In the expression: preOrder t<br/>      In the second argument of ‘(:)’, namely ‘[preOrder t | t &lt;- ts]’<br/>      In the expression: x : [preOrder t | t &lt;- ts]<br/>    • Relevant bindings include<br/>        t :: Tree a (bound at &lt;interactive&gt;:2:42)<br/>        ts :: [Tree a] (bound at &lt;interactive&gt;:2:18)<br/>        x :: a (bound at &lt;interactive&gt;:2:16)<br/>        preOrder :: Tree a -&gt; [a] (bound at &lt;interactive&gt;:2:1)</span>"
      ],
      "text/plain": [
       "<interactive>:2:29: error:\n",
       "    • Couldn't match expected type ‘a’ with actual type ‘[a]’\n",
       "      ‘a’ is a rigid type variable bound by\n",
       "        the type signature for:\n",
       "          preOrder :: forall a. Tree a -> [a]\n",
       "        at <interactive>:1:1-25\n",
       "    • In the expression: preOrder t\n",
       "      In the second argument of ‘(:)’, namely ‘[preOrder t | t <- ts]’\n",
       "      In the expression: x : [preOrder t | t <- ts]\n",
       "    • Relevant bindings include\n",
       "        t :: Tree a (bound at <interactive>:2:42)\n",
       "        ts :: [Tree a] (bound at <interactive>:2:18)\n",
       "        x :: a (bound at <interactive>:2:16)\n",
       "        preOrder :: Tree a -> [a] (bound at <interactive>:2:1)"
      ]
     },
     "metadata": {},
     "output_type": "display_data"
    }
   ],
   "source": [
    "preOrder :: Tree a -> [a]\n",
    "preOrder (Node x ts) = x : [preOrder t | t<-ts]"
   ]
  },
  {
   "cell_type": "markdown",
   "metadata": {},
   "source": [
    "## 이진트리에 대한 레벨 순서 탐색"
   ]
  },
  {
   "cell_type": "markdown",
   "metadata": {},
   "source": [
    "이진트리의 원소를 level order로 나열한 리스트를 계산하는 `levelOrder2` 함수를 정의해 보자.\n",
    "이 함수는 이진트리의 같은 레벨끼리 리스트로 구분지어주고 뿌리에 가까운 레벨부터 나열하는\n",
    "리스트의 리스트를 계산하는 `lvOrd2` 함수를 이용하면 손쉽게 정의할 수 있다.\n",
    "`levelOrder2`는 `lvOrd2`의 결과를 평평한 리스트로 이어붙이는 `concat` 함수와의 합성함수로 정의할 수 있다.\n",
    "\n",
    "예컨대, `lvOrd2`와 `levelOrd` 함수의 실행예는 다음과 같다.\n",
    "```haskell\n",
    "lvOrd2 tree2 == [[1],[2,3],[4,5,6,7]]\n",
    "levelOrder2 tree2 == [1,2,3,4,5,6,7]\n",
    "```\n",
    "참고로\n",
    "```haskell\n",
    "concat [[1],[2,3],[4,5,6,7]] == [1,2,3,4,5,6,7]\n",
    "```\n",
    "이제 `lvOrd2` 함수를 작성해 보라."
   ]
  },
  {
   "cell_type": "code",
   "execution_count": 11,
   "metadata": {},
   "outputs": [],
   "source": [
    "levelOrder2 :: Tree2 a -> [a]\n",
    "levelOrder2 = concat . lvOrd2\n",
    "\n",
    "lvOrd2 :: Tree2 a -> [[a]]\n",
    "lvOrd2 Null2           = []\n",
    "lvOrd2 (Node2 x t1 t2) = undefined"
   ]
  },
  {
   "cell_type": "markdown",
   "metadata": {},
   "source": [
    "## 임의 개수로 가지치는 나무구조에 대한 레벨 순서 탐색"
   ]
  },
  {
   "cell_type": "markdown",
   "metadata": {},
   "source": [
    "마찬가지로 임의의 개수로 가지치는 나무구조에 대해 마찬가지 계산을 하는 `levelOrder` 함수를 `lvOrd` 함수를 이용해 정의할 수 있다.\n",
    "\n",
    "이제 `lvOrd` 함수를 작성해 보라."
   ]
  },
  {
   "cell_type": "code",
   "execution_count": 12,
   "metadata": {},
   "outputs": [],
   "source": [
    "levelOrder :: Tree a -> [a]\n",
    "levelOrder = concat . lvOrd\n",
    "\n",
    "lvOrd :: Tree a -> [[a]]\n",
    "lvOrd (Node x ts) = undefined"
   ]
  },
  {
   "cell_type": "markdown",
   "metadata": {},
   "source": [
    "----\n",
    "위 과제를 하는 데 있어 도움이 될만한 힌트나 하스켈 라이브러리 함수 등에 대해서는 이후 수업시간을 활용하여 보충 설명할 예정이다.\n",
    "힌트 없이 미리 도전해 보고자 하는 분들을 위해 중간고사 전에 미리 과제를 제출하였다."
   ]
  }
 ],
 "metadata": {
  "kernelspec": {
   "display_name": "Haskell",
   "language": "haskell",
   "name": "haskell"
  },
  "language_info": {
   "codemirror_mode": "ihaskell",
   "file_extension": ".hs",
   "name": "haskell",
   "pygments_lexer": "Haskell",
   "version": "8.2.2"
  }
 },
 "nbformat": 4,
 "nbformat_minor": 2
}

{
 "cells": [
  {
   "cell_type": "code",
   "execution_count": 13,
   "metadata": {},
   "outputs": [],
   "source": [
    "-- 이진트리\n",
    "data Tree2 a\n",
    "  = Null2\n",
    "  | Node2 a (Tree2 a) (Tree2 a)\n",
    "  deriving Show\n",
    "\n",
    "-- 임의 개수 가지치는 나무\n",
    "data Tree a = Node a [Tree a]  deriving Show"
   ]
  },
  {
   "cell_type": "code",
   "execution_count": 23,
   "metadata": {},
   "outputs": [],
   "source": [
    "-- Tree2의 중위순서(inorder)로 원소를 나열하는 리스트를 계산하자\n",
    "inOrder2 :: Tree2 a -> [a]\n",
    "inOrder2 Null2           = []\n",
    "inOrder2 (Node2 x t1 t2) = inOrder2 t1 ++ [x] ++ inOrder2 t2"
   ]
  },
  {
   "cell_type": "code",
   "execution_count": 24,
   "metadata": {},
   "outputs": [],
   "source": [
    "-- Tree2의 전위순서(preorder)로 원소를 나열하는 리스트를 계산하자\n",
    "preOrder2 :: Tree2 a -> [a]\n",
    "preOrder2 Null2           = []\n",
    "preOrder2 (Node2 x t1 t2) = x : preOrder2 t1 ++ preOrder2 t2"
   ]
  },
  {
   "cell_type": "code",
   "execution_count": 25,
   "metadata": {},
   "outputs": [
    {
     "data": {
      "text/plain": [
       "[4,2,5,1,6,3,7]"
      ]
     },
     "metadata": {},
     "output_type": "display_data"
    },
    {
     "data": {
      "text/plain": [
       "[1,2,4,5,3,6,7]"
      ]
     },
     "metadata": {},
     "output_type": "display_data"
    }
   ],
   "source": [
    "tree2 = Node2 1\n",
    "          (Node2 2 (Node2 4 Null2 Null2)\n",
    "                   (Node2 5 Null2 Null2))\n",
    "          (Node2 3 (Node2 6 Null2 Null2)\n",
    "                   (Node2 7 Null2 Null2))\n",
    "inOrder2 tree2\n",
    "preOrder2 tree2"
   ]
  },
  {
   "cell_type": "code",
   "execution_count": 30,
   "metadata": {},
   "outputs": [],
   "source": [
    "-- Null2가 아닌 경우 Tree2를 Tree로 변환\n",
    "fromTree2toTree Null2 = error \"Null2 cannot be Tree\"\n",
    "fromTree2toTree (Node2 x t1 t2) = Node x ts\n",
    "  where\n",
    "  ts = case (t1, t2) of\n",
    "         (Null2, Null2) -> []\n",
    "         (Null2, _    ) -> [t2']\n",
    "         (_,     Null2) -> [t1']\n",
    "         (_,     _    ) -> [t1',t2']    \n",
    "  t1' = fromTree2toTree t1\n",
    "  t2' = fromTree2toTree t2"
   ]
  },
  {
   "cell_type": "code",
   "execution_count": 32,
   "metadata": {},
   "outputs": [
    {
     "data": {
      "text/plain": [
       "Node 1 [Node 2 [Node 4 [],Node 5 []],Node 3 [Node 6 [],Node 7 []]]"
      ]
     },
     "metadata": {},
     "output_type": "display_data"
    }
   ],
   "source": [
    "tree = fromTree2toTree tree2\n",
    "\n",
    "tree"
   ]
  },
  {
   "cell_type": "code",
   "execution_count": 33,
   "metadata": {},
   "outputs": [
    {
     "data": {
      "text/html": [
       "<style>/* Styles used for the Hoogle display in the pager */\n",
       ".hoogle-doc {\n",
       "display: block;\n",
       "padding-bottom: 1.3em;\n",
       "padding-left: 0.4em;\n",
       "}\n",
       ".hoogle-code {\n",
       "display: block;\n",
       "font-family: monospace;\n",
       "white-space: pre;\n",
       "}\n",
       ".hoogle-text {\n",
       "display: block;\n",
       "}\n",
       ".hoogle-name {\n",
       "color: green;\n",
       "font-weight: bold;\n",
       "}\n",
       ".hoogle-head {\n",
       "font-weight: bold;\n",
       "}\n",
       ".hoogle-sub {\n",
       "display: block;\n",
       "margin-left: 0.4em;\n",
       "}\n",
       ".hoogle-package {\n",
       "font-weight: bold;\n",
       "font-style: italic;\n",
       "}\n",
       ".hoogle-module {\n",
       "font-weight: bold;\n",
       "}\n",
       ".hoogle-class {\n",
       "font-weight: bold;\n",
       "}\n",
       ".get-type {\n",
       "color: green;\n",
       "font-weight: bold;\n",
       "font-family: monospace;\n",
       "display: block;\n",
       "white-space: pre-wrap;\n",
       "}\n",
       ".show-type {\n",
       "color: green;\n",
       "font-weight: bold;\n",
       "font-family: monospace;\n",
       "margin-left: 1em;\n",
       "}\n",
       ".mono {\n",
       "font-family: monospace;\n",
       "display: block;\n",
       "}\n",
       ".err-msg {\n",
       "color: red;\n",
       "font-style: italic;\n",
       "font-family: monospace;\n",
       "white-space: pre;\n",
       "display: block;\n",
       "}\n",
       "#unshowable {\n",
       "color: red;\n",
       "font-weight: bold;\n",
       "}\n",
       ".err-msg.in.collapse {\n",
       "padding-top: 0.7em;\n",
       "}\n",
       ".highlight-code {\n",
       "white-space: pre;\n",
       "font-family: monospace;\n",
       "}\n",
       ".suggestion-warning { \n",
       "font-weight: bold;\n",
       "color: rgb(200, 130, 0);\n",
       "}\n",
       ".suggestion-error { \n",
       "font-weight: bold;\n",
       "color: red;\n",
       "}\n",
       ".suggestion-name {\n",
       "font-weight: bold;\n",
       "}\n",
       "</style><span class='err-msg'>&lt;interactive&gt;:2:29: error:<br/>    • Couldn't match expected type ‘a’ with actual type ‘[a]’<br/>      ‘a’ is a rigid type variable bound by<br/>        the type signature for:<br/>          preOrder :: forall a. Tree a -&gt; [a]<br/>        at &lt;interactive&gt;:1:1-25<br/>    • In the expression: preOrder t<br/>      In the second argument of ‘(:)’, namely ‘[preOrder t | t &lt;- ts]’<br/>      In the expression: x : [preOrder t | t &lt;- ts]<br/>    • Relevant bindings include<br/>        t :: Tree a (bound at &lt;interactive&gt;:2:42)<br/>        ts :: [Tree a] (bound at &lt;interactive&gt;:2:18)<br/>        x :: a (bound at &lt;interactive&gt;:2:16)<br/>        preOrder :: Tree a -&gt; [a] (bound at &lt;interactive&gt;:2:1)</span>"
      ],
      "text/plain": [
       "<interactive>:2:29: error:\n",
       "    • Couldn't match expected type ‘a’ with actual type ‘[a]’\n",
       "      ‘a’ is a rigid type variable bound by\n",
       "        the type signature for:\n",
       "          preOrder :: forall a. Tree a -> [a]\n",
       "        at <interactive>:1:1-25\n",
       "    • In the expression: preOrder t\n",
       "      In the second argument of ‘(:)’, namely ‘[preOrder t | t <- ts]’\n",
       "      In the expression: x : [preOrder t | t <- ts]\n",
       "    • Relevant bindings include\n",
       "        t :: Tree a (bound at <interactive>:2:42)\n",
       "        ts :: [Tree a] (bound at <interactive>:2:18)\n",
       "        x :: a (bound at <interactive>:2:16)\n",
       "        preOrder :: Tree a -> [a] (bound at <interactive>:2:1)"
      ]
     },
     "metadata": {},
     "output_type": "display_data"
    }
   ],
   "source": [
    "preOrder :: Tree a -> [a]\n",
    "preOrder (Node x ts) = x : [preOrder t | t<-ts]"
   ]
  },
  {
   "cell_type": "code",
   "execution_count": null,
   "metadata": {},
   "outputs": [],
   "source": []
  }
 ],
 "metadata": {
  "kernelspec": {
   "display_name": "Haskell",
   "language": "haskell",
   "name": "haskell"
  },
  "language_info": {
   "codemirror_mode": "ihaskell",
   "file_extension": ".hs",
   "name": "haskell",
   "pygments_lexer": "Haskell",
   "version": "8.2.2"
  }
 },
 "nbformat": 4,
 "nbformat_minor": 2
}

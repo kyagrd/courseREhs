{
 "cells": [
  {
   "cell_type": "markdown",
   "metadata": {},
   "source": [
    "# typedLang\n",
    "cbvLang 노트북에서 정의했던 내용을 가져와서 타입 검사가 용이하도록\n",
    "Expr 문법을 조금 수정하였다."
   ]
  },
  {
   "cell_type": "markdown",
   "metadata": {},
   "source": [
    "$\\displaystyle\n",
    "\\tau ::= \\mathtt{unit} \\mid \\mathtt{bool} \\mid \\mathtt{int} \\mid \\tau \\times \\tau \\mid \\tau + \\tau \\mid \\tau\\to\\tau$"
   ]
  },
  {
   "cell_type": "code",
   "execution_count": 1,
   "metadata": {},
   "outputs": [],
   "source": [
    "-- (Int + Int)\n",
    "data Wepon = GUN Int | SWORD Int"
   ]
  },
  {
   "cell_type": "code",
   "execution_count": 2,
   "metadata": {},
   "outputs": [],
   "source": [
    "-- simple types for Expr\n",
    "data Ty\n",
    "  = UNIT -- 값이 딱 하나 존재\n",
    "  | BOOL -- 값이 두 개 존재\n",
    "  | INT  -- 값이 무한히 많이 존재\n",
    "  | Ty :* Ty   -- product type (pair) 순서쌍 타입 -- 구조체, 레코드\n",
    "  | Ty :+ Ty   -- sum type (tagged union) -- varient, 유니온 태그 있는\n",
    "  | Ty :-> Ty  -- 함수 타입\n",
    "  deriving (Show, Eq)\n",
    "\n",
    "infixr 9 :*\n",
    "infixr 8 :+\n",
    "infixr 7 :->"
   ]
  },
  {
   "cell_type": "code",
   "execution_count": 3,
   "metadata": {},
   "outputs": [],
   "source": [
    "-- 변수 이름은 문자열로 나타낸다\n",
    "type Nm = String\n",
    "\n",
    "-- 장난감 함수형 언어 = 람다식 + ...\n",
    "data Expr\n",
    "  = Var Nm                 -- x, y, z, ...\n",
    "  | Unit                   -- ()\n",
    "  | B Bool                 -- False, True\n",
    "  | I Int                  -- 0, -1, 1, -2, 2, -3, 3, ...\n",
    "  | Pair Expr Expr         -- (e1,e2)\n",
    "  | Fst Expr               -- fst e\n",
    "  | Snd Expr               -- snd e\n",
    "  | InL Ty Expr               -- InL t2 e\n",
    "  | InR Ty Expr               -- InR t1 e\n",
    "  | Case Expr Expr Expr    -- 하스켈이라면 대략 다음에 해당 case e of { inL x1 -> e1; inR x2 -> e2 }\n",
    "  | Lam (Nm,Ty) Expr       -- \\x:t.e\n",
    "  | Rec (Nm,Ty) Expr            -- rec (f:t) e\n",
    "  | App Expr Expr          -- e1 e2\n",
    "  | If Expr Expr Expr      -- if e then e1 else e2\n",
    "  | Let (Nm,Ty) Expr Expr  -- let x:t=e2 in e\n",
    "  | Add Expr Expr          -- e1 + e2\n",
    "  | Mul Expr Expr          -- e1 * e2\n",
    "  | Neg Expr               -- - e\n",
    "  | Eq Expr Expr           -- e1 == e2\n",
    "  | Ne Expr Expr           -- e1 /= e2\n",
    "  | Lt Expr Expr           -- e1 <  e2\n",
    "  | Gt Expr Expr           -- e1 >  e2\n",
    "  | Le Expr Expr           -- e1 <= e2\n",
    "  | Ge Expr Expr           -- e1 >= e2\n",
    "  | And Expr Expr          -- e1 && e2\n",
    "  | Or Expr Expr           -- e1 || e2\n",
    "  | Not Expr               -- not e\n",
    "  deriving (Show, Eq)"
   ]
  },
  {
   "cell_type": "code",
   "execution_count": 4,
   "metadata": {},
   "outputs": [],
   "source": [
    "import IHaskell.Display\n",
    "\n",
    "dispTy t = Display [html(\"<code>\"++dpTy t++\"</code>\")]\n",
    "dispExpr e = Display [html(\"<code>\"++dpExpr e++\"</code>\")]\n",
    "\n",
    "\n",
    "dpTy UNIT = \"unit\"\n",
    "dpTy BOOL = \"bool\"\n",
    "dpTy INT = \"int\"\n",
    "dpTy (t1 :-> t2) = dpTyArrL t1++\"->\"++dpTy t2\n",
    "dpTy (t1 :+ t2) = dpTySum t1++\"+\"++dpTyArrL t2\n",
    "dpTy (t1 :* t2) = dpTyProd t1++\"*\"++dpTySum t2\n",
    "\n",
    "dpTyArrL t@(_ :-> _) = paren $ dpTy t\n",
    "dpTyArrL t = dpTy t\n",
    "\n",
    "dpTySum t@(_ :-> _) = paren $ dpTy t\n",
    "dpTySum t@(_ :+ _) = paren $ dpTy t\n",
    "dpTySum t = dpTy t\n",
    "\n",
    "dpTyProd t@(_ :-> _) = paren $ dpTy t\n",
    "dpTyProd t@(_ :+ _) = paren $ dpTy t\n",
    "dpTyProd t@(_ :* _) = paren $ dpTy t\n",
    "dpTyProd t = dpTy t\n",
    "\n",
    "dpExpr (Var x) = x\n",
    "dpExpr (Lam (x,t) e) = \"λ\" ++ x ++\":\"++dpTy t++ \".\" ++ dpExpr e\n",
    "dpExpr (App e1 e2) = dpt e1 ++ \" \" ++ dps e2\n",
    "dpExpr (I n) = show n\n",
    "dpExpr (B b) = show b\n",
    "dpExpr Unit = \"()\"\n",
    "dpExpr (Pair e1 e2) = \"(\"++dpExpr e1++\",\"++dpExpr e2++\")\"\n",
    "dpExpr (Fst e) = \"fst\" ++ dpe e\n",
    "dpExpr (Snd e) = \"snd\" ++ dpe e\n",
    "dpExpr (InL t2 e) = \"inL \" ++paren(dpTy t2)++ dpe e\n",
    "dpExpr (InR t1 e) = \"inR \" ++paren(dpTy t1)++ dpe e\n",
    "dpExpr (Case e e1 e2) = \"case \" ++ dpe e ++ \" of { inL: \"++dpExpr e1++\"; inR: \"++dpExpr e2++\" }\"\n",
    "dpExpr (Add e1 e2) = dpe e1++\" + \"++dpe e2\n",
    "dpExpr (Mul e1 e2) = dpe e1++\" * \"++dpe e2\n",
    "dpExpr (Neg e) = \"-\"++dpe e\n",
    "dpExpr (Eq e1 e2) = dpe e1++\" == \"++dpe e2\n",
    "dpExpr (Ne e1 e2) = dpe e1++\" /= \"++dpe e2\n",
    "dpExpr (Lt e1 e2) = dpe e1++\" < \"++dpe e2\n",
    "dpExpr (Gt e1 e2) = dpe e1++\" > \"++dpe e2\n",
    "dpExpr (Le e1 e2) = dpe e1++\" <= \"++dpe e2\n",
    "dpExpr (Ge e1 e2) = dpe e1++\" >= \"++dpe e2\n",
    "dpExpr (And e1 e2) = dpe e1++\" && \"++dpe e2\n",
    "dpExpr (Or e1 e2) = dpe e1++\" || \"++dpe e2\n",
    "dpExpr (Not e) = \"not \"++ dpe e\n",
    "dpExpr (Let (x,t) e2 e) = \"let \"++x++\":\"++dpTy t++\" = \"++dpt e2++\" in \"++dpExpr e\n",
    "dpExpr (Rec (f,t) e) = \"rec \"++paren(f++\":\"++dpTy t)++\" \"++dpExpr e\n",
    "dpExpr (If e e1 e2) = \"if \"++dpe e++\" then \"++dpe e1++\" else \"++dpe e2\n",
    "\n",
    "dpt t@(Lam{}) = paren (dpExpr t)\n",
    "dpt t@(Let{}) = paren (dpExpr t)\n",
    "dpt t@(If{})  = paren (dpExpr t)\n",
    "dpt t@(Rec{}) = paren (dpExpr t)\n",
    "dpt t         = dpExpr t\n",
    "\n",
    "dps s@(I _)   = dpExpr s\n",
    "dps s@(B _)   = dpExpr s\n",
    "dps s@Unit    = dpExpr s\n",
    "dps s@(Pair{})    = dpExpr s\n",
    "dps s@(Var{}) = dpExpr s\n",
    "dps s         = paren (dpExpr s)\n",
    "\n",
    "dpe = dps\n",
    "\n",
    "\n",
    "paren s = \"(\" ++ s ++ \")\""
   ]
  },
  {
   "cell_type": "code",
   "execution_count": 5,
   "metadata": {},
   "outputs": [
    {
     "data": {
      "text/plain": [
       "True"
      ]
     },
     "metadata": {},
     "output_type": "display_data"
    },
    {
     "data": {
      "text/plain": [
       "False"
      ]
     },
     "metadata": {},
     "output_type": "display_data"
    },
    {
     "data": {
      "text/plain": [
       "True"
      ]
     },
     "metadata": {},
     "output_type": "display_data"
    },
    {
     "data": {
      "text/plain": [
       "True"
      ]
     },
     "metadata": {},
     "output_type": "display_data"
    },
    {
     "data": {
      "text/plain": [
       "True"
      ]
     },
     "metadata": {},
     "output_type": "display_data"
    }
   ],
   "source": [
    "INT :-> INT :-> INT == INT :-> (INT :-> INT)\n",
    "INT :-> INT :-> INT == (INT :-> INT) :-> INT\n",
    "INT :* INT :+ INT :* INT == (INT :* INT) :+ (INT :* INT)\n",
    "INT :-> INT :+ INT :-> INT == INT :-> (INT :+ INT) :-> INT\n",
    "INT :-> INT :* INT :-> INT == INT :-> (INT :* INT) :-> INT"
   ]
  },
  {
   "cell_type": "code",
   "execution_count": 6,
   "metadata": {},
   "outputs": [
    {
     "data": {
      "text/plain": [
       "\"int->int->int\""
      ]
     },
     "metadata": {},
     "output_type": "display_data"
    },
    {
     "data": {
      "text/plain": [
       "\"int->int->int\""
      ]
     },
     "metadata": {},
     "output_type": "display_data"
    },
    {
     "data": {
      "text/plain": [
       "\"(int->int)->int\""
      ]
     },
     "metadata": {},
     "output_type": "display_data"
    }
   ],
   "source": [
    "dpTy (INT :-> INT :-> INT)\n",
    "dpTy (INT :-> (INT :-> INT))\n",
    "dpTy ((INT :-> INT) :-> INT)"
   ]
  },
  {
   "cell_type": "code",
   "execution_count": 7,
   "metadata": {},
   "outputs": [
    {
     "data": {
      "text/plain": [
       "\"int*int+int*int\""
      ]
     },
     "metadata": {},
     "output_type": "display_data"
    },
    {
     "data": {
      "text/plain": [
       "\"int*(int+int)*int\""
      ]
     },
     "metadata": {},
     "output_type": "display_data"
    },
    {
     "data": {
      "text/plain": [
       "\"int->int+int->int\""
      ]
     },
     "metadata": {},
     "output_type": "display_data"
    },
    {
     "data": {
      "text/plain": [
       "\"int->int+int->int\""
      ]
     },
     "metadata": {},
     "output_type": "display_data"
    },
    {
     "data": {
      "text/plain": [
       "\"int->int*int->int\""
      ]
     },
     "metadata": {},
     "output_type": "display_data"
    },
    {
     "data": {
      "text/plain": [
       "\"(int->int)*int->int\""
      ]
     },
     "metadata": {},
     "output_type": "display_data"
    },
    {
     "data": {
      "text/plain": [
       "\"int->int*(int->int)\""
      ]
     },
     "metadata": {},
     "output_type": "display_data"
    },
    {
     "data": {
      "text/plain": [
       "\"(int->int)*(int->int)\""
      ]
     },
     "metadata": {},
     "output_type": "display_data"
    },
    {
     "data": {
      "text/plain": [
       "\"int*int*int*int\""
      ]
     },
     "metadata": {},
     "output_type": "display_data"
    },
    {
     "data": {
      "text/plain": [
       "\"int+int+int+int\""
      ]
     },
     "metadata": {},
     "output_type": "display_data"
    }
   ],
   "source": [
    "dpTy $ INT :* INT :+ INT :* INT\n",
    "dpTy $ INT :* (INT :+ INT) :* INT\n",
    "dpTy $ INT :-> INT :+ INT :-> INT\n",
    "dpTy $ INT :-> (INT :+ INT) :-> INT\n",
    "\n",
    "dpTy $ INT :-> INT :* INT :-> INT\n",
    "dpTy $ (INT :-> INT) :* INT :-> INT\n",
    "dpTy $ INT :-> INT :* (INT :-> INT)\n",
    "dpTy $ (INT :-> INT) :* (INT :-> INT)\n",
    "\n",
    "dpTy $ INT :* INT :* INT :* INT\n",
    "dpTy $ INT :+ INT :+ INT :+ INT"
   ]
  },
  {
   "cell_type": "code",
   "execution_count": 8,
   "metadata": {},
   "outputs": [
    {
     "data": {
      "text/plain": [
       "λy:int.(λx:int.x) ((λx:int.x) y)"
      ]
     },
     "metadata": {},
     "output_type": "display_data"
    },
    {
     "data": {
      "text/html": [
       "<style>/* Styles used for the Hoogle display in the pager */\n",
       ".hoogle-doc {\n",
       "display: block;\n",
       "padding-bottom: 1.3em;\n",
       "padding-left: 0.4em;\n",
       "}\n",
       ".hoogle-code {\n",
       "display: block;\n",
       "font-family: monospace;\n",
       "white-space: pre;\n",
       "}\n",
       ".hoogle-text {\n",
       "display: block;\n",
       "}\n",
       ".hoogle-name {\n",
       "color: green;\n",
       "font-weight: bold;\n",
       "}\n",
       ".hoogle-head {\n",
       "font-weight: bold;\n",
       "}\n",
       ".hoogle-sub {\n",
       "display: block;\n",
       "margin-left: 0.4em;\n",
       "}\n",
       ".hoogle-package {\n",
       "font-weight: bold;\n",
       "font-style: italic;\n",
       "}\n",
       ".hoogle-module {\n",
       "font-weight: bold;\n",
       "}\n",
       ".hoogle-class {\n",
       "font-weight: bold;\n",
       "}\n",
       ".get-type {\n",
       "color: green;\n",
       "font-weight: bold;\n",
       "font-family: monospace;\n",
       "display: block;\n",
       "white-space: pre-wrap;\n",
       "}\n",
       ".show-type {\n",
       "color: green;\n",
       "font-weight: bold;\n",
       "font-family: monospace;\n",
       "margin-left: 1em;\n",
       "}\n",
       ".mono {\n",
       "font-family: monospace;\n",
       "display: block;\n",
       "}\n",
       ".err-msg {\n",
       "color: red;\n",
       "font-style: italic;\n",
       "font-family: monospace;\n",
       "white-space: pre;\n",
       "display: block;\n",
       "}\n",
       "#unshowable {\n",
       "color: red;\n",
       "font-weight: bold;\n",
       "}\n",
       ".err-msg.in.collapse {\n",
       "padding-top: 0.7em;\n",
       "}\n",
       ".highlight-code {\n",
       "white-space: pre;\n",
       "font-family: monospace;\n",
       "}\n",
       ".suggestion-warning { \n",
       "font-weight: bold;\n",
       "color: rgb(200, 130, 0);\n",
       "}\n",
       ".suggestion-error { \n",
       "font-weight: bold;\n",
       "color: red;\n",
       "}\n",
       ".suggestion-name {\n",
       "font-weight: bold;\n",
       "}\n",
       "</style><code>λy:int.(λx:int.x) ((λx:int.x) y)</code>"
      ]
     },
     "metadata": {},
     "output_type": "display_data"
    }
   ],
   "source": [
    "idExpr = Lam (\"x\",INT) (Var \"x\")\n",
    "\n",
    "putStrLn $ dpExpr $ Lam (\"y\",INT) (App idExpr (App idExpr (Var \"y\")))\n",
    "\n",
    "dispExpr $ Lam (\"y\",INT) (App idExpr (App idExpr (Var \"y\")))"
   ]
  },
  {
   "cell_type": "code",
   "execution_count": 9,
   "metadata": {},
   "outputs": [
    {
     "data": {
      "text/plain": [
       "3 + 4"
      ]
     },
     "metadata": {},
     "output_type": "display_data"
    },
    {
     "data": {
      "text/plain": [
       "let id:int = (λx:int.x) in id 5"
      ]
     },
     "metadata": {},
     "output_type": "display_data"
    }
   ],
   "source": [
    "putStrLn $ dpExpr $ I 3 `Add` I 4\n",
    "putStrLn $ dpExpr $ Let (\"id\",INT) idExpr (App (Var \"id\") (I 5))"
   ]
  },
  {
   "cell_type": "markdown",
   "metadata": {},
   "source": [
    "----\n",
    "\n",
    "$\\displaystyle\\begin{array}{rcrcl}\n",
    "\\sigma&\\in&\\textit{Env} &=&\n",
    "\\textit{Nm} \\longrightarrow^{\\hspace{-2.7ex}\\textrm{fin}} \\textit{Val} \\\\\n",
    "\\Gamma&\\in&\\textit{TEnv} &=&\n",
    "\\textit{Nm} \\longrightarrow^{\\hspace{-2.7ex}\\textrm{fin}} \\textit{Ty} \\\\\n",
    "v&\\in&\\textit{Val} &=& \\textit{Unit}\\;\\cup\\;\\textit{Bool}\\;\\cup\\;\\textit{Int}\\;\\cup\\;(\\textit{Val} \\times \\textit{Val})\\;\\cup\\; (\\textit{Val} + \\textit{Val})\\;\\cup\\;(\\textit{Expr}_V \\times Env) \\\\\n",
    " &   &\\textit{Unit}&=&\\{ \\pmb{(\\,)} \\} \\\\\n",
    "b&\\in&\\textit{Bool}&=& \\{\\textbf{False},\\textbf{True}\\} \\\\\n",
    "n&\\in&\\textit{Int}&=& \\{\\ldots,-2,-1,0,1,2,\\ldots\\} \\\\\n",
    "\\end{array}$\n",
    "\n",
    "$\\displaystyle\\begin{array}{rcl}\n",
    "\\textit{Expr}_V &\\subset& \\textit{Expr}\\\\\n",
    "\\textit{Expr}_V &=& \\{ \\lambda x:\\tau.e \\mid x\\in\\textit{Nm},~\\tau\\in\\textit{Ty},~e\\in\\textit{Expr}\\}~\\cup~\\\\\n",
    "            & &\\{ \\textbf{rec}~(f:\\tau)~(\\lambda x:\\tau_2.e) \\mid f\\in\\textit{Nm},~x\\in\\textit{Nm},~\\tau,\\tau_2\\in\\textit{Ty},~ e\\in\\textit{Expr}\\}\n",
    "\\end{array}$"
   ]
  },
  {
   "cell_type": "markdown",
   "metadata": {},
   "source": [
    "# 장난감 함수형 언어의 타입 규칙(typing rules)\n",
    "\n",
    "$\\displaystyle \\Gamma \\vdash e : \\tau$\n",
    "\n",
    "타입규칙은 위와 같은 형태의 3항 관계를 정의한다.\n",
    "\n",
    "매우쉽게 타입검사를 하라면 좀더 추가적인 타입 정보를 추가해야 될 곳이 아직은 몇 군데 남아 있다.\n",
    "\n",
    "$\\displaystyle\n",
    " \\frac{}{\\Gamma \\vdash x : \\Gamma(x)}\n",
    "$\n",
    "\n",
    "$~$\n",
    "\n",
    "$\\displaystyle\n",
    " \\frac{\\{x\\mapsto\\tau_1\\}\\Gamma \\vdash e : \\tau_2}{\n",
    "       \\Gamma \\vdash \\lambda x:\\tau_1.e ~ : \\tau_1 \\to \\tau_2}\n",
    " \\quad\n",
    " \\frac{\\{f\\mapsto\\tau\\}\\Gamma \\vdash e : \\tau}{\n",
    "       \\Gamma \\vdash \\textbf{rec}\\;(f:\\tau)\\;e ~ : \\tau}\n",
    "$\n",
    "\n",
    "$~$\n",
    "\n",
    "$\\displaystyle\n",
    " \\frac{}{\\Gamma \\vdash \\pmb{(\\,)} : \\texttt{unit}}\n",
    " \\quad\n",
    " \\frac{}{\\Gamma \\vdash n : \\texttt{int}}\n",
    " \\quad\n",
    " \\frac{}{\\Gamma \\vdash \\textbf{False} : \\texttt{bool}}\n",
    " \\quad\n",
    " \\frac{}{\\Gamma \\vdash \\textbf{True} : \\texttt{bool}}\n",
    "$\n",
    "\n",
    "$~$\n",
    "\n",
    "$\\displaystyle\n",
    " \\frac{\\Gamma \\vdash e_1:\\tau_1 \\quad \\Gamma \\vdash e_2:\\tau_2}{\n",
    "       \\Gamma \\vdash \\pmb{(}e_1\\pmb{,}\\,e_2\\pmb{)} : \\tau_1\\times\\tau_2}\n",
    " \\quad\n",
    " \\frac{\\Gamma \\vdash e : \\tau_1\\times \\tau_2}{\n",
    "       \\Gamma \\vdash \\textbf{fst}\\;e : \\tau_1}\n",
    " \\quad\n",
    " \\frac{\\Gamma \\vdash e : \\tau_1\\times \\tau_2}{\n",
    "       \\Gamma \\vdash \\textbf{snd}\\;e : \\tau_2}\n",
    "$\n",
    "\n",
    "$~$\n",
    "\n",
    "$\\displaystyle\n",
    " \\frac{\\Gamma \\vdash e : \\tau_1}{\n",
    "       \\Gamma \\vdash \\textbf{inL}\\,\\tau_2\\;e : \\tau_1 + \\tau_2}\n",
    " \\quad\n",
    " \\frac{\\Gamma \\vdash e : \\tau_2}{\n",
    "       \\Gamma \\vdash \\textbf{inR}\\,\\tau_1\\;e : \\tau_1 + \\tau_2}\n",
    "$\n",
    "\n",
    "$~$\n",
    "\n",
    "$\\displaystyle\n",
    " \\frac{\\Gamma \\vdash e : \\tau_1+\\tau_2 \\quad\n",
    "       \\{x_1\\mapsto\\tau_1\\}\\Gamma \\vdash e_1:\\tau \\quad\n",
    "       \\{x_2\\mapsto\\tau_2\\}\\Gamma \\vdash e_2:\\tau}{\n",
    "       \\textbf{case}\\;e\\;\\textbf{of}\\,\\pmb{\\{}\\,\\textbf{inL}\\,\\lambda x_1:\\tau_1.e_1\\,\\pmb{;}\\;~\\textbf{inR}\\,\\lambda x_2:\\tau_2.e_2\\,\\pmb{\\}} : \\tau}\n",
    "$\n",
    "\n",
    "$~$\n",
    "\n",
    "$\\displaystyle\n",
    " \\frac{\\Gamma \\vdash e_1 : \\tau_2\\to\\tau \\quad \\Gamma \\vdash e_2 : \\tau_2}{\n",
    "       \\Gamma \\vdash e_1~e_2 : \\tau}\n",
    " \\qquad\n",
    " \\frac{\\{x\\mapsto \\tau_1\\}\\Gamma \\vdash e_2 : \\tau_2}{\n",
    "       \\Gamma \\vdash \\textbf{let}~x:\\tau_1 = e_1 ~\\textbf{in}~ e_2 : \\tau_2}\n",
    "$\n",
    "\n",
    "$~$\n",
    "\n",
    "$\\displaystyle\n",
    " \\frac{\\Gamma \\vdash e : \\texttt{bool} \\quad \\Gamma \\vdash e_1:\\tau \\quad \\Gamma \\vdash e_2:\\tau}{\n",
    "       \\Gamma \\vdash \\textbf{if}~e~\\textbf{then}~e_1~\\textbf{else}~e_2 : \\tau}\n",
    "$"
   ]
  },
  {
   "cell_type": "markdown",
   "metadata": {},
   "source": [
    "# hw5 장난감 함수형 언어의 타입 검사 (12/4밤, 6점)\n",
    "\n",
    " 1. 계산식(`Expr`)의 타입을 검사하는 `tyof` 함수를 작성하라 (4점)\n",
    " 1. 계산식(`Expr`)의 값을 계산하는 `eval` 함수를 완성하라 (2점)\n",
    "\n",
    "지난 과제 hw4에서 작서했던 `eval` 함수를 이번에 새로 추가된/바뀐 부분에 맞게 고치면 된다.\n",
    "hw4를 하지 않았던 사람은 새로 도전해 보라."
   ]
  },
  {
   "cell_type": "markdown",
   "metadata": {},
   "source": [
    "```haskell\n",
    "data Maybe a = Nothing | Just a\n",
    "```"
   ]
  },
  {
   "cell_type": "code",
   "execution_count": 10,
   "metadata": {},
   "outputs": [
    {
     "data": {
      "text/html": [
       "<style>/* Styles used for the Hoogle display in the pager */\n",
       ".hoogle-doc {\n",
       "display: block;\n",
       "padding-bottom: 1.3em;\n",
       "padding-left: 0.4em;\n",
       "}\n",
       ".hoogle-code {\n",
       "display: block;\n",
       "font-family: monospace;\n",
       "white-space: pre;\n",
       "}\n",
       ".hoogle-text {\n",
       "display: block;\n",
       "}\n",
       ".hoogle-name {\n",
       "color: green;\n",
       "font-weight: bold;\n",
       "}\n",
       ".hoogle-head {\n",
       "font-weight: bold;\n",
       "}\n",
       ".hoogle-sub {\n",
       "display: block;\n",
       "margin-left: 0.4em;\n",
       "}\n",
       ".hoogle-package {\n",
       "font-weight: bold;\n",
       "font-style: italic;\n",
       "}\n",
       ".hoogle-module {\n",
       "font-weight: bold;\n",
       "}\n",
       ".hoogle-class {\n",
       "font-weight: bold;\n",
       "}\n",
       ".get-type {\n",
       "color: green;\n",
       "font-weight: bold;\n",
       "font-family: monospace;\n",
       "display: block;\n",
       "white-space: pre-wrap;\n",
       "}\n",
       ".show-type {\n",
       "color: green;\n",
       "font-weight: bold;\n",
       "font-family: monospace;\n",
       "margin-left: 1em;\n",
       "}\n",
       ".mono {\n",
       "font-family: monospace;\n",
       "display: block;\n",
       "}\n",
       ".err-msg {\n",
       "color: red;\n",
       "font-style: italic;\n",
       "font-family: monospace;\n",
       "white-space: pre;\n",
       "display: block;\n",
       "}\n",
       "#unshowable {\n",
       "color: red;\n",
       "font-weight: bold;\n",
       "}\n",
       ".err-msg.in.collapse {\n",
       "padding-top: 0.7em;\n",
       "}\n",
       ".highlight-code {\n",
       "white-space: pre;\n",
       "font-family: monospace;\n",
       "}\n",
       ".suggestion-warning { \n",
       "font-weight: bold;\n",
       "color: rgb(200, 130, 0);\n",
       "}\n",
       ".suggestion-error { \n",
       "font-weight: bold;\n",
       "color: red;\n",
       "}\n",
       ".suggestion-name {\n",
       "font-weight: bold;\n",
       "}\n",
       "</style><span class='get-type'>lookup :: forall a b. Eq a => a -> [(a, b)] -> Maybe b</span>"
      ],
      "text/plain": [
       "lookup :: forall a b. Eq a => a -> [(a, b)] -> Maybe b"
      ]
     },
     "metadata": {},
     "output_type": "display_data"
    },
    {
     "data": {
      "text/plain": [
       "Just 4"
      ]
     },
     "metadata": {},
     "output_type": "display_data"
    },
    {
     "data": {
      "text/plain": [
       "Just 5"
      ]
     },
     "metadata": {},
     "output_type": "display_data"
    },
    {
     "data": {
      "text/plain": [
       "Nothing"
      ]
     },
     "metadata": {},
     "output_type": "display_data"
    }
   ],
   "source": [
    ":type lookup\n",
    "lookup 'a' [('a',4),('b',5),('c',6)]\n",
    "lookup 'b' [('a',4),('b',5),('c',6)]\n",
    "lookup 'z' [('a',4),('b',5),('c',6)]"
   ]
  },
  {
   "cell_type": "code",
   "execution_count": 11,
   "metadata": {},
   "outputs": [],
   "source": [
    "type TEnv = [(Nm,Ty)]\n",
    "\n",
    "tyof :: TEnv -> Expr -> Maybe Ty\n",
    "tyof tenv (Var x) = lookup x tenv\n",
    "tyof _    Unit    = Just UNIT\n",
    "tyof _    (B _)   = Just BOOL\n",
    "tyof _    (I _)   = Just INT\n",
    "tyof tenv (Pair e1 e2) = undefined\n",
    "tyof tenv (Fst e) = undefined\n",
    "tyof tenv (Snd e) = undefined\n",
    "tyof tenv (InL t2 e1) = undefined\n",
    "tyof tenv (InR t1 e2) = undefined\n",
    "tyof tenv (Case e (Lam (x1,t1) e1)\n",
    "                  (Lam (x2,t2) e2)) = undefined\n",
    "tyof tenv (Lam (x,t) e) = undefined\n",
    "tyof tenv (Rec (f,t) (Lam (x,t1) e)) = undefined\n",
    "tyof tenv (App e1 e2) = undefined\n",
    "tyof tenv (If e e1 e2) = undefined\n",
    "tyof tenv (Let (x,t2) e2 e) = undefined\n",
    "tyof tenv (Add e1 e2) = undefined\n",
    "tyof tenv (Mul e1 e2) = undefined\n",
    "tyof tenv (Neg e) = undefined\n",
    "tyof tenv (Eq e1 e2) = undefined\n",
    "tyof tenv (Ne e1 e2) = undefined\n",
    "tyof tenv (Lt e1 e2) = undefined\n",
    "tyof tenv (Gt e1 e2) = undefined\n",
    "tyof tenv (Le e1 e2) = undefined\n",
    "tyof tenv (Ge e1 e2) = undefined\n",
    "tyof tenv (And e1 e2) = undefined\n",
    "tyof tenv (Or e1 e2) = undefined\n",
    "tyof tenv (Not e) = case tyof tenv e of\n",
    "                      Just BOOL -> Just BOOL\n",
    "                      _         -> Nothing"
   ]
  },
  {
   "cell_type": "code",
   "execution_count": 12,
   "metadata": {},
   "outputs": [
    {
     "data": {
      "text/plain": [
       "Just BOOL"
      ]
     },
     "metadata": {},
     "output_type": "display_data"
    },
    {
     "data": {
      "text/plain": [
       "Nothing"
      ]
     },
     "metadata": {},
     "output_type": "display_data"
    },
    {
     "data": {
      "text/plain": [
       "Nothing"
      ]
     },
     "metadata": {},
     "output_type": "display_data"
    },
    {
     "data": {
      "text/plain": [
       "Just BOOL"
      ]
     },
     "metadata": {},
     "output_type": "display_data"
    }
   ],
   "source": [
    "tyof [] (Not (B True))\n",
    "tyof [] (Not (I 22))\n",
    "tyof [] (Not (Var \"x\"))\n",
    "tyof [(\"x\",BOOL)] (Not (Var \"x\"))"
   ]
  },
  {
   "cell_type": "code",
   "execution_count": 13,
   "metadata": {},
   "outputs": [
    {
     "data": {
      "text/plain": [
       "Just BOOL"
      ]
     },
     "metadata": {},
     "output_type": "display_data"
    },
    {
     "data": {
      "text/plain": [
       "Just UNIT"
      ]
     },
     "metadata": {},
     "output_type": "display_data"
    },
    {
     "data": {
      "text/plain": [
       "Just INT"
      ]
     },
     "metadata": {},
     "output_type": "display_data"
    },
    {
     "data": {
      "text/plain": [
       "Just BOOL"
      ]
     },
     "metadata": {},
     "output_type": "display_data"
    }
   ],
   "source": [
    "tyof [] (B True)\n",
    "tyof [] Unit\n",
    "tyof [] (I 19)\n",
    "tyof [(\"x\",BOOL)] (Var \"x\")"
   ]
  },
  {
   "cell_type": "code",
   "execution_count": null,
   "metadata": {},
   "outputs": [],
   "source": []
  },
  {
   "cell_type": "markdown",
   "metadata": {},
   "source": [
    "# 장난감 함수형 언어의 call-by-value evaluation\n",
    "call-by-value evaluation (줄여서 CVB evaluation)은\n",
    "적극적 계산법(eager evaluation)이라고 부르기도 한다.\n",
    "\n",
    "$\\displaystyle\\Downarrow ~:~ \\textit{Expr}\\times \\textit{Env} \\to \\textit{Val} $\n",
    "\n",
    "$~$\n",
    "\n",
    "$\\displaystyle\\frac{}{(x, \\sigma) \\Downarrow \\sigma(x)}$\n",
    "\n",
    "$\\displaystyle\\frac{}{(\\lambda x:\\tau.e, \\sigma) \\Downarrow\n",
    "                \\langle\\lambda x:\\tau.e, \\sigma\\rangle}\n",
    "\\quad\n",
    " \\displaystyle\\frac{}{(\\textbf{rec}~f~\\lambda x:\\tau.e, \\sigma) \\Downarrow\n",
    "                \\langle\\textbf{rec}~f~\\lambda x:\\tau.e, \\sigma\\rangle}$\n",
    "\n",
    "$\n",
    "\\displaystyle\\frac{}{(\\pmb{(\\,)}, \\sigma) \\Downarrow \\pmb{(\\,)}}\n",
    "\\qquad\n",
    "\\displaystyle\\frac{}{(n, \\sigma) \\Downarrow n}\n",
    "\\qquad\n",
    "\\displaystyle\\frac{}{(\\textbf{True}, \\sigma) \\Downarrow \\textbf{True}}\n",
    "\\quad\n",
    "\\displaystyle\\frac{}{(\\textbf{False}, \\sigma) \\Downarrow \\textbf{False}}\n",
    "$\n",
    "\n",
    "$~$\n",
    "\n",
    "$\n",
    "\\displaystyle\\frac{(e_1,\\sigma)\\Downarrow v_1\\quad (e_2,\\sigma)\\Downarrow v_2}{(\\pmb{(}e_1\\pmb{,}\\,e_2\\pmb{)},\\, \\sigma) \\Downarrow (v_1,v_2)}\n",
    "\\quad\n",
    "\\displaystyle\\frac{(e,\\sigma)\\Downarrow (v_1,v_2)}{(\\textbf{fst}\\;e, \\sigma) \\Downarrow v_1}\n",
    "\\quad\n",
    "\\displaystyle\\frac{(e,\\sigma)\\Downarrow (v_1,v_2)}{(\\textbf{snd}\\;e, \\sigma) \\Downarrow v_2}\n",
    "$\n",
    "\n",
    "$~$\n",
    "\n",
    "$\n",
    "\\displaystyle\\frac{(e,\\sigma)\\Downarrow v}{(\\textbf{inL}\\;e, \\sigma) \\Downarrow in_L\\,v}\n",
    "\\quad\n",
    "\\displaystyle\\frac{(e,\\sigma)\\Downarrow v}{(\\textbf{inR}\\;e, \\sigma) \\Downarrow in_R\\,v}\n",
    "$\n",
    "\n",
    "$~$\n",
    "\n",
    "$\n",
    "\\displaystyle\\frac{(e,\\sigma)\\Downarrow in_L\\,v\\quad (e_1,\\{x_1\\mapsto v\\}\\sigma)\\Downarrow v_1}{\n",
    "  (\\textbf{case}\\;e\\;\\textbf{of}\\,\\pmb{\\{}\\,\\textbf{inL}\\,\\lambda x_1:\\tau_1.e_1\\,\\pmb{;}\\;~\\textbf{inR}\\,\\lambda x_2:\\tau_2.e_2\\,\\pmb{\\}}, \\sigma) \\Downarrow v_1}\n",
    "$\n",
    "\n",
    "$~$\n",
    "\n",
    "$\n",
    "\\displaystyle\\frac{(e,\\sigma)\\Downarrow in_R\\,v\\quad (e_2,\\{x_2\\mapsto v\\}\\sigma)\\Downarrow v_2}{\n",
    "  (\\textbf{case}\\;e\\;\\textbf{of}\\,\\pmb{\\{}\\,\\textbf{inL}\\,\\lambda x_1:\\tau_1.e_1\\,\\pmb{;}\\;~\\textbf{inR}\\,\\lambda x_2:\\tau_2.e_2\\,\\pmb{\\}}, \\sigma) \\Downarrow v_2}\n",
    "$\n",
    "\n",
    "$~$\n",
    "\n",
    "$\\displaystyle\\frac{~\n",
    "   \\begin{array}{l}\n",
    "   (e_1,\\sigma) \\Downarrow \\langle\\lambda x:\\tau.e, \\sigma_1\\rangle \\\\\n",
    "   (e_2,\\sigma) \\Downarrow v_2 \\\\\n",
    "   (e, \\{x\\mapsto v_2\\}\\sigma_1) \\Downarrow v\n",
    "   \\end{array}~}{\n",
    "   (e_1~e_2, \\sigma) \\Downarrow v}\n",
    "\\qquad\n",
    " \\displaystyle\\frac{~\n",
    "   \\begin{array}{l}\n",
    "   (e_1,\\sigma) \\Downarrow \\langle\\textbf{rec}~f~\\lambda x:\\tau.e, \\sigma_1\\rangle \\\\\n",
    "   (e_2,\\sigma) \\Downarrow v_2 \\\\\n",
    "   (e, \\{x\\mapsto v_2,\\;f\\mapsto\\langle\\textbf{rec}~f~\\lambda x:\\tau.e,\\sigma_1\\rangle\\}\\sigma_1) \\Downarrow v\n",
    "   \\end{array}~}{\n",
    "   (e_1~e_2, \\sigma) \\Downarrow v}\n",
    "$\n",
    "\n",
    "$~$\n",
    "\n",
    "$\\displaystyle\\frac{\n",
    "   ((\\lambda x:\\tau.e)~e_2, \\sigma) \\Downarrow v}{\n",
    "   (\\textbf{let}~x:\\tau=e_2~e, \\sigma) \\Downarrow v}$\n",
    "\n",
    "$~$\n",
    "\n",
    "\n",
    "$\\displaystyle\\frac{~\n",
    "   (e,\\sigma) \\Downarrow \\textbf{True} \\quad\n",
    "   (e_1,\\sigma) \\Downarrow v}{\n",
    "   (\\textbf{if}~e~\\textbf{then}~e_1~\\textbf{else}~e_2, \\sigma) \\Downarrow v}\n",
    "\\qquad\n",
    " \\displaystyle\\frac{~\n",
    "   (e,\\sigma) \\Downarrow \\textbf{False} \\quad\n",
    "   (e_2,\\sigma) \\Downarrow v}{\n",
    "   (\\textbf{if}~e~\\textbf{then}~e_1~\\textbf{else}~e_2, \\sigma) \\Downarrow v}\n",
    "$\n",
    "\n",
    "$~$\n",
    "\n",
    "$\\displaystyle\\frac{~\n",
    "   \\begin{array}{l}\n",
    "   (e_1,\\sigma) \\Downarrow n_1\\\\\n",
    "   (e_2,\\sigma) \\Downarrow n_2\\\\\n",
    "   n = n_1 \\stackrel{\\textit{Int}}{+} n_2\n",
    "   \\end{array}~}{\n",
    "   (e_1 + e_2, \\sigma) \\Downarrow n}\n",
    "\\qquad\\cdots\\quad\\cdots\n",
    "\\qquad\n",
    " \\displaystyle\\frac{~\n",
    "   \\begin{array}{l}\n",
    "   (e_1,\\sigma) \\Downarrow b_1\\\\\n",
    "   (e_2,\\sigma) \\Downarrow b_2\\\\\n",
    "   b = b_1 \\land b_2\n",
    "   \\end{array}~}{\n",
    "   (b_1 \\mathop{\\mathsf{\\&\\!\\!\\&}\\,} b_2, \\sigma) \\Downarrow b}\n",
    "\\qquad\\cdots\\quad\\cdots\n",
    "$\n",
    "\n",
    "$~$\n",
    "\n",
    "$\n",
    " \\displaystyle\\frac{~\n",
    "   \\begin{array}{l}\n",
    "   (e_1,\\sigma) \\Downarrow v_1\\\\\n",
    "   (e_2,\\sigma) \\Downarrow v_2\\\\\n",
    "   v_1 \\stackrel{\\tau}{=} v_2\n",
    "   \\end{array}~}{\n",
    "   (e_1 = e_2, \\sigma) \\Downarrow \\textbf{True}}~~(\\tau\\in\\{\\textit{Int},\\textit{Bool},\\textit{Unit}\\})\n",
    "\\quad\n",
    " \\displaystyle\\frac{~\n",
    "   \\begin{array}{l}\n",
    "   (e_1,\\sigma) \\Downarrow v_1\\\\\n",
    "   (e_2,\\sigma) \\Downarrow v_2\\\\\n",
    "   v_1 \\stackrel{\\tau}{\\neq} v_2\n",
    "   \\end{array}~}{\n",
    "   (e_1 = e_2, \\sigma) \\Downarrow \\textbf{False}}~~(\\tau\\in\\{\\textit{Int},\\textit{Bool},\\textit{Unit}\\})\n",
    "\\qquad\\cdots\\quad\\cdots\n",
    "$\n",
    "\n",
    "위의 표기법은 비유하자면 $v = f(x)$라고 쓰는 대신에 $f(x)$를 기계적인 규칙을 따라 계속 계산을 돌리다 보면 $v$라는 값에 도달한다는 의미로 $f(x) \\Downarrow v$라는 식으로 표시하는 것이다.\n",
    "산술연산은 Int 타입의 정수값에 대해서만, 논리연산은 Bool 타입의 진리값에 대해서만, 비교연산은 Int 타입의 정수값끼리 또는 Bool 타입의 진리값끼리만 정의되어 있다. 여기서는 논리연산의 short circuit에 대해서는 일단 생각하지 않기로 하자."
   ]
  },
  {
   "cell_type": "code",
   "execution_count": 14,
   "metadata": {},
   "outputs": [],
   "source": [
    "-- finite mapping을 순서쌍 리스트 타입으로 정의\n",
    "type Env = [(Nm, Val)]\n",
    "-- Expr_V를 따로 정의하지 않고 그냥 Expr을 이용해 정의\n",
    "data Val = VU | VI Int | VB Bool | VPair Val Val | VinL Val | VinR Val | Cl Expr Env  deriving Show\n",
    "\n",
    "-- simga(x)에 해당하는 것이 lookup x simga\n",
    "lookup' x env  = v  where Just v = lookup x env"
   ]
  },
  {
   "cell_type": "code",
   "execution_count": 15,
   "metadata": {},
   "outputs": [],
   "source": [
    "import Data.List (intersperse)\n",
    "dpEnv env = \"{\"++ concat (intersperse \", \" [x++\" ↦ \"++dpVal v | (x,v)<-env]) ++ \"}\"\n",
    "\n",
    "dpVal VU = show \"()\"\n",
    "dpVal (VI n) = show n\n",
    "dpVal (VB b) = show b\n",
    "dpVal (VPair v1 v2) = \"(\"++dpVal v1++\", \"++dpVal v2++\")\"\n",
    "dpVal (VinL v) = \"inL(\"++dpVal v++\")\"\n",
    "dpVal (VinR v) = \"inR(\"++dpVal v++\")\"\n",
    "dpVal (Cl t env) = \"⟨\"++dpExpr t++\", \"++dpEnv env++\"⟩\"\n",
    "\n",
    "dispEnv env = Display[html $ \"<code>\"++dpEnv env++\"</code>\"]\n",
    "dispVal v = Display[html $ \"<code>\"++dpVal v++\"</code>\"]"
   ]
  },
  {
   "cell_type": "code",
   "execution_count": 16,
   "metadata": {},
   "outputs": [],
   "source": [
    "-- TODO add more things\n",
    "eval :: Expr -> Env -> Val\n",
    "eval Unit _ = VU\n",
    "eval (I n) _ = VI n\n",
    "eval (B b) _ = VB b\n",
    "eval v@(Lam (x,_) e)         env = Cl v env\n",
    "eval v@(Rec f (Lam (x,_) e)) env = Cl v env\n",
    "eval (Pair e1 e2) env = VPair v1 v2\n",
    "  where\n",
    "  v1 = eval e1 env\n",
    "  v2 = eval e2 env\n",
    "eval (Fst e) env = v1\n",
    "  where VPair v1 v2 = eval e env\n",
    "eval (Snd e) env = v2\n",
    "  where VPair v1 v2 = eval e env\n",
    "eval (InL _ e) env = VinL v\n",
    "  where v = eval e env\n",
    "eval (InR _ e) env = VinR v\n",
    "  where v = eval e env\n",
    "eval (Case e (Lam (x1,_) e1) (Lam (x2,_) e2)) env =\n",
    "  case eval e env of\n",
    "    VinL v -> eval e1 ((x1,v):env)\n",
    "    VinR v -> eval e2 ((x2,v):env)        \n",
    "eval (Var x)     env = lookup' x env\n",
    "eval (App e1 e2) env =\n",
    "  let v2 = eval e2 env in\n",
    "  case eval e1 env of\n",
    "   v1@(Cl (Lam (x,_) e)         env1) -> eval e ((x,v2):env1)\n",
    "   v1@(Cl (Rec (f,_) (Lam (x,_) e)) env1) -> undefined\n",
    "eval (If e e1 e2) env = undefined\n",
    "eval (Let (x,_) e2 e) env = undefined -- let x:t=e2 in e 는 (\\x:t.e) e2 의 문법설탕(syntactic sugar)\n",
    "-- 산술연산\n",
    "eval (Add e1 e2)  env = VI (x+y)\n",
    "  where\n",
    "  VI x = eval e1 env\n",
    "  VI y = eval e2 env\n",
    "eval (Mul e1 e2)  env = undefined\n",
    "eval (Neg e)      env = undefined\n",
    "-- 논리연산\n",
    "eval (And e1 e2)  env = undefined\n",
    "eval (Or e1 e2)   env = undefined\n",
    "eval (Not e)      env = VB (not v)\n",
    "  where VB v = eval e env\n",
    "-- 비교연산\n",
    "eval (Eq e1 e2)   env = undefined\n",
    "eval (Ne e1 e2)   env = undefined\n",
    "eval (Lt e1 e2)   env = undefined\n",
    "eval (Gt e1 e2)   env = undefined\n",
    "eval (Le e1 e2)   env = undefined\n",
    "eval (Ge e1 e2)   env = undefined"
   ]
  },
  {
   "cell_type": "code",
   "execution_count": 17,
   "metadata": {},
   "outputs": [
    {
     "data": {
      "text/html": [
       "<style>/* Styles used for the Hoogle display in the pager */\n",
       ".hoogle-doc {\n",
       "display: block;\n",
       "padding-bottom: 1.3em;\n",
       "padding-left: 0.4em;\n",
       "}\n",
       ".hoogle-code {\n",
       "display: block;\n",
       "font-family: monospace;\n",
       "white-space: pre;\n",
       "}\n",
       ".hoogle-text {\n",
       "display: block;\n",
       "}\n",
       ".hoogle-name {\n",
       "color: green;\n",
       "font-weight: bold;\n",
       "}\n",
       ".hoogle-head {\n",
       "font-weight: bold;\n",
       "}\n",
       ".hoogle-sub {\n",
       "display: block;\n",
       "margin-left: 0.4em;\n",
       "}\n",
       ".hoogle-package {\n",
       "font-weight: bold;\n",
       "font-style: italic;\n",
       "}\n",
       ".hoogle-module {\n",
       "font-weight: bold;\n",
       "}\n",
       ".hoogle-class {\n",
       "font-weight: bold;\n",
       "}\n",
       ".get-type {\n",
       "color: green;\n",
       "font-weight: bold;\n",
       "font-family: monospace;\n",
       "display: block;\n",
       "white-space: pre-wrap;\n",
       "}\n",
       ".show-type {\n",
       "color: green;\n",
       "font-weight: bold;\n",
       "font-family: monospace;\n",
       "margin-left: 1em;\n",
       "}\n",
       ".mono {\n",
       "font-family: monospace;\n",
       "display: block;\n",
       "}\n",
       ".err-msg {\n",
       "color: red;\n",
       "font-style: italic;\n",
       "font-family: monospace;\n",
       "white-space: pre;\n",
       "display: block;\n",
       "}\n",
       "#unshowable {\n",
       "color: red;\n",
       "font-weight: bold;\n",
       "}\n",
       ".err-msg.in.collapse {\n",
       "padding-top: 0.7em;\n",
       "}\n",
       ".highlight-code {\n",
       "white-space: pre;\n",
       "font-family: monospace;\n",
       "}\n",
       ".suggestion-warning { \n",
       "font-weight: bold;\n",
       "color: rgb(200, 130, 0);\n",
       "}\n",
       ".suggestion-error { \n",
       "font-weight: bold;\n",
       "color: red;\n",
       "}\n",
       ".suggestion-name {\n",
       "font-weight: bold;\n",
       "}\n",
       "</style><span class='err-msg'>&lt;interactive&gt;:1:11: error:<br/>    • Couldn't match expected type ‘(Nm, Ty)’ with actual type ‘String’<br/>    • In the first argument of ‘Let’, namely ‘\"fact\"’<br/>      In the expression: Let \"fact\" factExpr<br/>      In the first argument of ‘eval’, namely ‘(Let \"fact\" factExpr <span>&dollar;</span> Var \"fact\" `App` I 7)’</span>"
      ],
      "text/plain": [
       "<interactive>:1:11: error:\n",
       "    • Couldn't match expected type ‘(Nm, Ty)’ with actual type ‘String’\n",
       "    • In the first argument of ‘Let’, namely ‘\"fact\"’\n",
       "      In the expression: Let \"fact\" factExpr\n",
       "      In the first argument of ‘eval’, namely ‘(Let \"fact\" factExpr $ Var \"fact\" `App` I 7)’"
      ]
     },
     "metadata": {},
     "output_type": "display_data"
    }
   ],
   "source": [
    "-- eval을 완성한 후 factExpr를 완성하여 7팩토리알을 실행해 보라\n",
    "factExpr = Rec undefined undefined\n",
    "eval (Let \"fact\" factExpr $ Var \"fact\" `App` I 7) []"
   ]
  },
  {
   "cell_type": "code",
   "execution_count": 18,
   "metadata": {},
   "outputs": [
    {
     "data": {
      "text/html": [
       "<style>/* Styles used for the Hoogle display in the pager */\n",
       ".hoogle-doc {\n",
       "display: block;\n",
       "padding-bottom: 1.3em;\n",
       "padding-left: 0.4em;\n",
       "}\n",
       ".hoogle-code {\n",
       "display: block;\n",
       "font-family: monospace;\n",
       "white-space: pre;\n",
       "}\n",
       ".hoogle-text {\n",
       "display: block;\n",
       "}\n",
       ".hoogle-name {\n",
       "color: green;\n",
       "font-weight: bold;\n",
       "}\n",
       ".hoogle-head {\n",
       "font-weight: bold;\n",
       "}\n",
       ".hoogle-sub {\n",
       "display: block;\n",
       "margin-left: 0.4em;\n",
       "}\n",
       ".hoogle-package {\n",
       "font-weight: bold;\n",
       "font-style: italic;\n",
       "}\n",
       ".hoogle-module {\n",
       "font-weight: bold;\n",
       "}\n",
       ".hoogle-class {\n",
       "font-weight: bold;\n",
       "}\n",
       ".get-type {\n",
       "color: green;\n",
       "font-weight: bold;\n",
       "font-family: monospace;\n",
       "display: block;\n",
       "white-space: pre-wrap;\n",
       "}\n",
       ".show-type {\n",
       "color: green;\n",
       "font-weight: bold;\n",
       "font-family: monospace;\n",
       "margin-left: 1em;\n",
       "}\n",
       ".mono {\n",
       "font-family: monospace;\n",
       "display: block;\n",
       "}\n",
       ".err-msg {\n",
       "color: red;\n",
       "font-style: italic;\n",
       "font-family: monospace;\n",
       "white-space: pre;\n",
       "display: block;\n",
       "}\n",
       "#unshowable {\n",
       "color: red;\n",
       "font-weight: bold;\n",
       "}\n",
       ".err-msg.in.collapse {\n",
       "padding-top: 0.7em;\n",
       "}\n",
       ".highlight-code {\n",
       "white-space: pre;\n",
       "font-family: monospace;\n",
       "}\n",
       ".suggestion-warning { \n",
       "font-weight: bold;\n",
       "color: rgb(200, 130, 0);\n",
       "}\n",
       ".suggestion-error { \n",
       "font-weight: bold;\n",
       "color: red;\n",
       "}\n",
       ".suggestion-name {\n",
       "font-weight: bold;\n",
       "}\n",
       "</style><span class='get-type'>eval :: Expr -> Env -> Val</span>"
      ],
      "text/plain": [
       "eval :: Expr -> Env -> Val"
      ]
     },
     "metadata": {},
     "output_type": "display_data"
    },
    {
     "data": {
      "text/html": [
       "<style>/* Styles used for the Hoogle display in the pager */\n",
       ".hoogle-doc {\n",
       "display: block;\n",
       "padding-bottom: 1.3em;\n",
       "padding-left: 0.4em;\n",
       "}\n",
       ".hoogle-code {\n",
       "display: block;\n",
       "font-family: monospace;\n",
       "white-space: pre;\n",
       "}\n",
       ".hoogle-text {\n",
       "display: block;\n",
       "}\n",
       ".hoogle-name {\n",
       "color: green;\n",
       "font-weight: bold;\n",
       "}\n",
       ".hoogle-head {\n",
       "font-weight: bold;\n",
       "}\n",
       ".hoogle-sub {\n",
       "display: block;\n",
       "margin-left: 0.4em;\n",
       "}\n",
       ".hoogle-package {\n",
       "font-weight: bold;\n",
       "font-style: italic;\n",
       "}\n",
       ".hoogle-module {\n",
       "font-weight: bold;\n",
       "}\n",
       ".hoogle-class {\n",
       "font-weight: bold;\n",
       "}\n",
       ".get-type {\n",
       "color: green;\n",
       "font-weight: bold;\n",
       "font-family: monospace;\n",
       "display: block;\n",
       "white-space: pre-wrap;\n",
       "}\n",
       ".show-type {\n",
       "color: green;\n",
       "font-weight: bold;\n",
       "font-family: monospace;\n",
       "margin-left: 1em;\n",
       "}\n",
       ".mono {\n",
       "font-family: monospace;\n",
       "display: block;\n",
       "}\n",
       ".err-msg {\n",
       "color: red;\n",
       "font-style: italic;\n",
       "font-family: monospace;\n",
       "white-space: pre;\n",
       "display: block;\n",
       "}\n",
       "#unshowable {\n",
       "color: red;\n",
       "font-weight: bold;\n",
       "}\n",
       ".err-msg.in.collapse {\n",
       "padding-top: 0.7em;\n",
       "}\n",
       ".highlight-code {\n",
       "white-space: pre;\n",
       "font-family: monospace;\n",
       "}\n",
       ".suggestion-warning { \n",
       "font-weight: bold;\n",
       "color: rgb(200, 130, 0);\n",
       "}\n",
       ".suggestion-error { \n",
       "font-weight: bold;\n",
       "color: red;\n",
       "}\n",
       ".suggestion-name {\n",
       "font-weight: bold;\n",
       "}\n",
       "</style><span class='get-type'>uncurry eval :: (Expr, Env) -> Val</span>"
      ],
      "text/plain": [
       "uncurry eval :: (Expr, Env) -> Val"
      ]
     },
     "metadata": {},
     "output_type": "display_data"
    },
    {
     "data": {
      "text/plain": [
       "Cl (Lam (\"x\",INT) (Var \"x\")) []"
      ]
     },
     "metadata": {},
     "output_type": "display_data"
    },
    {
     "data": {
      "text/plain": [
       "⟨λx:int.f (f x), {f ↦ ⟨λf:int->int.λx:int.f (f x), {}⟩}⟩"
      ]
     },
     "metadata": {},
     "output_type": "display_data"
    }
   ],
   "source": [
    ":type eval\n",
    ":type uncurry eval\n",
    "\n",
    "eval (App (Lam (\"x\",INT:->INT) (Var \"x\")) (Lam (\"x\",INT) (Var \"x\"))) []\n",
    "\n",
    "sigma = [(\"twice\",Cl (Lam (\"f\",INT:->INT) (Lam (\"x\",INT) (App f(App f x)))) [])]\n",
    "      where\n",
    "       f = Var \"f\"\n",
    "       x = Var \"x\"\n",
    "\n",
    "twice = Var \"twice\"\n",
    "\n",
    "putStr . dpVal $ eval (App twice twice) sigma"
   ]
  },
  {
   "cell_type": "code",
   "execution_count": 19,
   "metadata": {},
   "outputs": [
    {
     "data": {
      "text/html": [
       "<style>/* Styles used for the Hoogle display in the pager */\n",
       ".hoogle-doc {\n",
       "display: block;\n",
       "padding-bottom: 1.3em;\n",
       "padding-left: 0.4em;\n",
       "}\n",
       ".hoogle-code {\n",
       "display: block;\n",
       "font-family: monospace;\n",
       "white-space: pre;\n",
       "}\n",
       ".hoogle-text {\n",
       "display: block;\n",
       "}\n",
       ".hoogle-name {\n",
       "color: green;\n",
       "font-weight: bold;\n",
       "}\n",
       ".hoogle-head {\n",
       "font-weight: bold;\n",
       "}\n",
       ".hoogle-sub {\n",
       "display: block;\n",
       "margin-left: 0.4em;\n",
       "}\n",
       ".hoogle-package {\n",
       "font-weight: bold;\n",
       "font-style: italic;\n",
       "}\n",
       ".hoogle-module {\n",
       "font-weight: bold;\n",
       "}\n",
       ".hoogle-class {\n",
       "font-weight: bold;\n",
       "}\n",
       ".get-type {\n",
       "color: green;\n",
       "font-weight: bold;\n",
       "font-family: monospace;\n",
       "display: block;\n",
       "white-space: pre-wrap;\n",
       "}\n",
       ".show-type {\n",
       "color: green;\n",
       "font-weight: bold;\n",
       "font-family: monospace;\n",
       "margin-left: 1em;\n",
       "}\n",
       ".mono {\n",
       "font-family: monospace;\n",
       "display: block;\n",
       "}\n",
       ".err-msg {\n",
       "color: red;\n",
       "font-style: italic;\n",
       "font-family: monospace;\n",
       "white-space: pre;\n",
       "display: block;\n",
       "}\n",
       "#unshowable {\n",
       "color: red;\n",
       "font-weight: bold;\n",
       "}\n",
       ".err-msg.in.collapse {\n",
       "padding-top: 0.7em;\n",
       "}\n",
       ".highlight-code {\n",
       "white-space: pre;\n",
       "font-family: monospace;\n",
       "}\n",
       ".suggestion-warning { \n",
       "font-weight: bold;\n",
       "color: rgb(200, 130, 0);\n",
       "}\n",
       ".suggestion-error { \n",
       "font-weight: bold;\n",
       "color: red;\n",
       "}\n",
       ".suggestion-name {\n",
       "font-weight: bold;\n",
       "}\n",
       "</style><code>{twice ↦ ⟨λf:int->int.λx:int.f (f x), {}⟩}</code>"
      ]
     },
     "metadata": {},
     "output_type": "display_data"
    }
   ],
   "source": [
    "dispEnv sigma"
   ]
  },
  {
   "cell_type": "code",
   "execution_count": 20,
   "metadata": {},
   "outputs": [
    {
     "data": {
      "text/plain": [
       "⟨λx:int.f (f x), {f ↦ ⟨λf:int->int.λx:int.f (f x), {}⟩}⟩"
      ]
     },
     "metadata": {},
     "output_type": "display_data"
    },
    {
     "data": {
      "text/html": [
       "<style>/* Styles used for the Hoogle display in the pager */\n",
       ".hoogle-doc {\n",
       "display: block;\n",
       "padding-bottom: 1.3em;\n",
       "padding-left: 0.4em;\n",
       "}\n",
       ".hoogle-code {\n",
       "display: block;\n",
       "font-family: monospace;\n",
       "white-space: pre;\n",
       "}\n",
       ".hoogle-text {\n",
       "display: block;\n",
       "}\n",
       ".hoogle-name {\n",
       "color: green;\n",
       "font-weight: bold;\n",
       "}\n",
       ".hoogle-head {\n",
       "font-weight: bold;\n",
       "}\n",
       ".hoogle-sub {\n",
       "display: block;\n",
       "margin-left: 0.4em;\n",
       "}\n",
       ".hoogle-package {\n",
       "font-weight: bold;\n",
       "font-style: italic;\n",
       "}\n",
       ".hoogle-module {\n",
       "font-weight: bold;\n",
       "}\n",
       ".hoogle-class {\n",
       "font-weight: bold;\n",
       "}\n",
       ".get-type {\n",
       "color: green;\n",
       "font-weight: bold;\n",
       "font-family: monospace;\n",
       "display: block;\n",
       "white-space: pre-wrap;\n",
       "}\n",
       ".show-type {\n",
       "color: green;\n",
       "font-weight: bold;\n",
       "font-family: monospace;\n",
       "margin-left: 1em;\n",
       "}\n",
       ".mono {\n",
       "font-family: monospace;\n",
       "display: block;\n",
       "}\n",
       ".err-msg {\n",
       "color: red;\n",
       "font-style: italic;\n",
       "font-family: monospace;\n",
       "white-space: pre;\n",
       "display: block;\n",
       "}\n",
       "#unshowable {\n",
       "color: red;\n",
       "font-weight: bold;\n",
       "}\n",
       ".err-msg.in.collapse {\n",
       "padding-top: 0.7em;\n",
       "}\n",
       ".highlight-code {\n",
       "white-space: pre;\n",
       "font-family: monospace;\n",
       "}\n",
       ".suggestion-warning { \n",
       "font-weight: bold;\n",
       "color: rgb(200, 130, 0);\n",
       "}\n",
       ".suggestion-error { \n",
       "font-weight: bold;\n",
       "color: red;\n",
       "}\n",
       ".suggestion-name {\n",
       "font-weight: bold;\n",
       "}\n",
       "</style><code>⟨λx:int.f (f x), {f ↦ ⟨λf:int->int.λx:int.f (f x), {}⟩}⟩</code>"
      ]
     },
     "metadata": {},
     "output_type": "display_data"
    }
   ],
   "source": [
    "putStrLn . dpVal $ eval (App twice twice) sigma\n",
    "dispVal $ eval (App twice twice) sigma"
   ]
  },
  {
   "cell_type": "code",
   "execution_count": 21,
   "metadata": {},
   "outputs": [
    {
     "data": {
      "text/plain": [
       "Lam (\"x\",INT) (Var \"x\")"
      ]
     },
     "metadata": {},
     "output_type": "display_data"
    },
    {
     "data": {
      "text/plain": [
       "λx:int.x"
      ]
     },
     "metadata": {},
     "output_type": "display_data"
    }
   ],
   "source": [
    "idExpr\n",
    "putStr $ dpExpr idExpr"
   ]
  },
  {
   "cell_type": "code",
   "execution_count": 22,
   "metadata": {},
   "outputs": [
    {
     "data": {
      "text/plain": [
       "3"
      ]
     },
     "metadata": {},
     "output_type": "display_data"
    },
    {
     "data": {
      "text/html": [
       "<style>/* Styles used for the Hoogle display in the pager */\n",
       ".hoogle-doc {\n",
       "display: block;\n",
       "padding-bottom: 1.3em;\n",
       "padding-left: 0.4em;\n",
       "}\n",
       ".hoogle-code {\n",
       "display: block;\n",
       "font-family: monospace;\n",
       "white-space: pre;\n",
       "}\n",
       ".hoogle-text {\n",
       "display: block;\n",
       "}\n",
       ".hoogle-name {\n",
       "color: green;\n",
       "font-weight: bold;\n",
       "}\n",
       ".hoogle-head {\n",
       "font-weight: bold;\n",
       "}\n",
       ".hoogle-sub {\n",
       "display: block;\n",
       "margin-left: 0.4em;\n",
       "}\n",
       ".hoogle-package {\n",
       "font-weight: bold;\n",
       "font-style: italic;\n",
       "}\n",
       ".hoogle-module {\n",
       "font-weight: bold;\n",
       "}\n",
       ".hoogle-class {\n",
       "font-weight: bold;\n",
       "}\n",
       ".get-type {\n",
       "color: green;\n",
       "font-weight: bold;\n",
       "font-family: monospace;\n",
       "display: block;\n",
       "white-space: pre-wrap;\n",
       "}\n",
       ".show-type {\n",
       "color: green;\n",
       "font-weight: bold;\n",
       "font-family: monospace;\n",
       "margin-left: 1em;\n",
       "}\n",
       ".mono {\n",
       "font-family: monospace;\n",
       "display: block;\n",
       "}\n",
       ".err-msg {\n",
       "color: red;\n",
       "font-style: italic;\n",
       "font-family: monospace;\n",
       "white-space: pre;\n",
       "display: block;\n",
       "}\n",
       "#unshowable {\n",
       "color: red;\n",
       "font-weight: bold;\n",
       "}\n",
       ".err-msg.in.collapse {\n",
       "padding-top: 0.7em;\n",
       "}\n",
       ".highlight-code {\n",
       "white-space: pre;\n",
       "font-family: monospace;\n",
       "}\n",
       ".suggestion-warning { \n",
       "font-weight: bold;\n",
       "color: rgb(200, 130, 0);\n",
       "}\n",
       ".suggestion-error { \n",
       "font-weight: bold;\n",
       "color: red;\n",
       "}\n",
       ".suggestion-name {\n",
       "font-weight: bold;\n",
       "}\n",
       "</style><code>3</code>"
      ]
     },
     "metadata": {},
     "output_type": "display_data"
    },
    {
     "data": {
      "text/html": [
       "<style>/* Styles used for the Hoogle display in the pager */\n",
       ".hoogle-doc {\n",
       "display: block;\n",
       "padding-bottom: 1.3em;\n",
       "padding-left: 0.4em;\n",
       "}\n",
       ".hoogle-code {\n",
       "display: block;\n",
       "font-family: monospace;\n",
       "white-space: pre;\n",
       "}\n",
       ".hoogle-text {\n",
       "display: block;\n",
       "}\n",
       ".hoogle-name {\n",
       "color: green;\n",
       "font-weight: bold;\n",
       "}\n",
       ".hoogle-head {\n",
       "font-weight: bold;\n",
       "}\n",
       ".hoogle-sub {\n",
       "display: block;\n",
       "margin-left: 0.4em;\n",
       "}\n",
       ".hoogle-package {\n",
       "font-weight: bold;\n",
       "font-style: italic;\n",
       "}\n",
       ".hoogle-module {\n",
       "font-weight: bold;\n",
       "}\n",
       ".hoogle-class {\n",
       "font-weight: bold;\n",
       "}\n",
       ".get-type {\n",
       "color: green;\n",
       "font-weight: bold;\n",
       "font-family: monospace;\n",
       "display: block;\n",
       "white-space: pre-wrap;\n",
       "}\n",
       ".show-type {\n",
       "color: green;\n",
       "font-weight: bold;\n",
       "font-family: monospace;\n",
       "margin-left: 1em;\n",
       "}\n",
       ".mono {\n",
       "font-family: monospace;\n",
       "display: block;\n",
       "}\n",
       ".err-msg {\n",
       "color: red;\n",
       "font-style: italic;\n",
       "font-family: monospace;\n",
       "white-space: pre;\n",
       "display: block;\n",
       "}\n",
       "#unshowable {\n",
       "color: red;\n",
       "font-weight: bold;\n",
       "}\n",
       ".err-msg.in.collapse {\n",
       "padding-top: 0.7em;\n",
       "}\n",
       ".highlight-code {\n",
       "white-space: pre;\n",
       "font-family: monospace;\n",
       "}\n",
       ".suggestion-warning { \n",
       "font-weight: bold;\n",
       "color: rgb(200, 130, 0);\n",
       "}\n",
       ".suggestion-error { \n",
       "font-weight: bold;\n",
       "color: red;\n",
       "}\n",
       ".suggestion-name {\n",
       "font-weight: bold;\n",
       "}\n",
       "</style><code>3</code>"
      ]
     },
     "metadata": {},
     "output_type": "display_data"
    },
    {
     "data": {
      "text/html": [
       "<style>/* Styles used for the Hoogle display in the pager */\n",
       ".hoogle-doc {\n",
       "display: block;\n",
       "padding-bottom: 1.3em;\n",
       "padding-left: 0.4em;\n",
       "}\n",
       ".hoogle-code {\n",
       "display: block;\n",
       "font-family: monospace;\n",
       "white-space: pre;\n",
       "}\n",
       ".hoogle-text {\n",
       "display: block;\n",
       "}\n",
       ".hoogle-name {\n",
       "color: green;\n",
       "font-weight: bold;\n",
       "}\n",
       ".hoogle-head {\n",
       "font-weight: bold;\n",
       "}\n",
       ".hoogle-sub {\n",
       "display: block;\n",
       "margin-left: 0.4em;\n",
       "}\n",
       ".hoogle-package {\n",
       "font-weight: bold;\n",
       "font-style: italic;\n",
       "}\n",
       ".hoogle-module {\n",
       "font-weight: bold;\n",
       "}\n",
       ".hoogle-class {\n",
       "font-weight: bold;\n",
       "}\n",
       ".get-type {\n",
       "color: green;\n",
       "font-weight: bold;\n",
       "font-family: monospace;\n",
       "display: block;\n",
       "white-space: pre-wrap;\n",
       "}\n",
       ".show-type {\n",
       "color: green;\n",
       "font-weight: bold;\n",
       "font-family: monospace;\n",
       "margin-left: 1em;\n",
       "}\n",
       ".mono {\n",
       "font-family: monospace;\n",
       "display: block;\n",
       "}\n",
       ".err-msg {\n",
       "color: red;\n",
       "font-style: italic;\n",
       "font-family: monospace;\n",
       "white-space: pre;\n",
       "display: block;\n",
       "}\n",
       "#unshowable {\n",
       "color: red;\n",
       "font-weight: bold;\n",
       "}\n",
       ".err-msg.in.collapse {\n",
       "padding-top: 0.7em;\n",
       "}\n",
       ".highlight-code {\n",
       "white-space: pre;\n",
       "font-family: monospace;\n",
       "}\n",
       ".suggestion-warning { \n",
       "font-weight: bold;\n",
       "color: rgb(200, 130, 0);\n",
       "}\n",
       ".suggestion-error { \n",
       "font-weight: bold;\n",
       "color: red;\n",
       "}\n",
       ".suggestion-name {\n",
       "font-weight: bold;\n",
       "}\n",
       "</style><code>6</code>"
      ]
     },
     "metadata": {},
     "output_type": "display_data"
    }
   ],
   "source": [
    "putStrLn . dpVal $ eval (I 3) sigma\n",
    "dispVal $ eval (I 3) sigma\n",
    "\n",
    "doubleExpr = Lam (\"x\",INT) (Var \"x\" `Add` Var \"x\")\n",
    "\n",
    "dispVal $ eval (App idExpr (I 3)) sigma\n",
    "dispVal $ eval (App doubleExpr (I 3)) sigma"
   ]
  },
  {
   "cell_type": "code",
   "execution_count": 23,
   "metadata": {},
   "outputs": [
    {
     "data": {
      "text/plain": [
       "True"
      ]
     },
     "metadata": {},
     "output_type": "display_data"
    },
    {
     "data": {
      "text/html": [
       "<style>/* Styles used for the Hoogle display in the pager */\n",
       ".hoogle-doc {\n",
       "display: block;\n",
       "padding-bottom: 1.3em;\n",
       "padding-left: 0.4em;\n",
       "}\n",
       ".hoogle-code {\n",
       "display: block;\n",
       "font-family: monospace;\n",
       "white-space: pre;\n",
       "}\n",
       ".hoogle-text {\n",
       "display: block;\n",
       "}\n",
       ".hoogle-name {\n",
       "color: green;\n",
       "font-weight: bold;\n",
       "}\n",
       ".hoogle-head {\n",
       "font-weight: bold;\n",
       "}\n",
       ".hoogle-sub {\n",
       "display: block;\n",
       "margin-left: 0.4em;\n",
       "}\n",
       ".hoogle-package {\n",
       "font-weight: bold;\n",
       "font-style: italic;\n",
       "}\n",
       ".hoogle-module {\n",
       "font-weight: bold;\n",
       "}\n",
       ".hoogle-class {\n",
       "font-weight: bold;\n",
       "}\n",
       ".get-type {\n",
       "color: green;\n",
       "font-weight: bold;\n",
       "font-family: monospace;\n",
       "display: block;\n",
       "white-space: pre-wrap;\n",
       "}\n",
       ".show-type {\n",
       "color: green;\n",
       "font-weight: bold;\n",
       "font-family: monospace;\n",
       "margin-left: 1em;\n",
       "}\n",
       ".mono {\n",
       "font-family: monospace;\n",
       "display: block;\n",
       "}\n",
       ".err-msg {\n",
       "color: red;\n",
       "font-style: italic;\n",
       "font-family: monospace;\n",
       "white-space: pre;\n",
       "display: block;\n",
       "}\n",
       "#unshowable {\n",
       "color: red;\n",
       "font-weight: bold;\n",
       "}\n",
       ".err-msg.in.collapse {\n",
       "padding-top: 0.7em;\n",
       "}\n",
       ".highlight-code {\n",
       "white-space: pre;\n",
       "font-family: monospace;\n",
       "}\n",
       ".suggestion-warning { \n",
       "font-weight: bold;\n",
       "color: rgb(200, 130, 0);\n",
       "}\n",
       ".suggestion-error { \n",
       "font-weight: bold;\n",
       "color: red;\n",
       "}\n",
       ".suggestion-name {\n",
       "font-weight: bold;\n",
       "}\n",
       "</style><code>True</code>"
      ]
     },
     "metadata": {},
     "output_type": "display_data"
    }
   ],
   "source": [
    "putStrLn . dpVal $ eval (B True) sigma\n",
    "dispVal $ eval (B True) sigma"
   ]
  },
  {
   "cell_type": "code",
   "execution_count": 24,
   "metadata": {},
   "outputs": [
    {
     "data": {
      "text/plain": [
       "VPair (VI 3) (VB True)"
      ]
     },
     "metadata": {},
     "output_type": "display_data"
    },
    {
     "data": {
      "text/plain": [
       "(3, True)"
      ]
     },
     "metadata": {},
     "output_type": "display_data"
    }
   ],
   "source": [
    "eval (Pair (I 3) (B True)) []\n",
    "putStrLn . dpVal $ eval (Pair (I 3) (B True)) []"
   ]
  },
  {
   "cell_type": "code",
   "execution_count": 25,
   "metadata": {},
   "outputs": [
    {
     "data": {
      "text/html": [
       "<style>/* Styles used for the Hoogle display in the pager */\n",
       ".hoogle-doc {\n",
       "display: block;\n",
       "padding-bottom: 1.3em;\n",
       "padding-left: 0.4em;\n",
       "}\n",
       ".hoogle-code {\n",
       "display: block;\n",
       "font-family: monospace;\n",
       "white-space: pre;\n",
       "}\n",
       ".hoogle-text {\n",
       "display: block;\n",
       "}\n",
       ".hoogle-name {\n",
       "color: green;\n",
       "font-weight: bold;\n",
       "}\n",
       ".hoogle-head {\n",
       "font-weight: bold;\n",
       "}\n",
       ".hoogle-sub {\n",
       "display: block;\n",
       "margin-left: 0.4em;\n",
       "}\n",
       ".hoogle-package {\n",
       "font-weight: bold;\n",
       "font-style: italic;\n",
       "}\n",
       ".hoogle-module {\n",
       "font-weight: bold;\n",
       "}\n",
       ".hoogle-class {\n",
       "font-weight: bold;\n",
       "}\n",
       ".get-type {\n",
       "color: green;\n",
       "font-weight: bold;\n",
       "font-family: monospace;\n",
       "display: block;\n",
       "white-space: pre-wrap;\n",
       "}\n",
       ".show-type {\n",
       "color: green;\n",
       "font-weight: bold;\n",
       "font-family: monospace;\n",
       "margin-left: 1em;\n",
       "}\n",
       ".mono {\n",
       "font-family: monospace;\n",
       "display: block;\n",
       "}\n",
       ".err-msg {\n",
       "color: red;\n",
       "font-style: italic;\n",
       "font-family: monospace;\n",
       "white-space: pre;\n",
       "display: block;\n",
       "}\n",
       "#unshowable {\n",
       "color: red;\n",
       "font-weight: bold;\n",
       "}\n",
       ".err-msg.in.collapse {\n",
       "padding-top: 0.7em;\n",
       "}\n",
       ".highlight-code {\n",
       "white-space: pre;\n",
       "font-family: monospace;\n",
       "}\n",
       ".suggestion-warning { \n",
       "font-weight: bold;\n",
       "color: rgb(200, 130, 0);\n",
       "}\n",
       ".suggestion-error { \n",
       "font-weight: bold;\n",
       "color: red;\n",
       "}\n",
       ".suggestion-name {\n",
       "font-weight: bold;\n",
       "}\n",
       "</style><div class=\"suggestion-name\" style=\"clear:both;\">Redundant bracket</div><div class=\"suggestion-row\" style=\"float: left;\"><div class=\"suggestion-warning\">Found:</div><div class=\"highlight-code\" id=\"haskell\">(Pair (I 3) (B True))</div></div><div class=\"suggestion-row\" style=\"float: left;\"><div class=\"suggestion-warning\">Why Not:</div><div class=\"highlight-code\" id=\"haskell\">Pair (I 3) (B True)</div></div>"
      ],
      "text/plain": [
       "Line 1: Redundant bracket\n",
       "Found:\n",
       "(Pair (I 3) (B True))\n",
       "Why not:\n",
       "Pair (I 3) (B True)"
      ]
     },
     "metadata": {},
     "output_type": "display_data"
    },
    {
     "data": {
      "text/plain": [
       "3"
      ]
     },
     "metadata": {},
     "output_type": "display_data"
    },
    {
     "data": {
      "text/plain": [
       "True"
      ]
     },
     "metadata": {},
     "output_type": "display_data"
    }
   ],
   "source": [
    "pairTm = (Pair (I 3) (B True))\n",
    "putStrLn . dpVal $ eval (Fst pairTm) []\n",
    "putStrLn . dpVal $ eval (Snd pairTm) []"
   ]
  },
  {
   "cell_type": "code",
   "execution_count": 26,
   "metadata": {},
   "outputs": [
    {
     "data": {
      "text/plain": [
       "VinL (VI 6)"
      ]
     },
     "metadata": {},
     "output_type": "display_data"
    }
   ],
   "source": [
    "caseTm = -- int + bool 타입을 처리하는 case 식\n",
    "  Case (InL BOOL (I 3))\n",
    "  -- Case (InR INT (B False)) \n",
    "    (Lam (\"x1\", INT) $ InL BOOL (Add (Var \"x1\") (I 3))) -- inL ... 처리 ... 결과가 int 타입\n",
    "    (Lam (\"x2\", BOOL) $ InR INT (Not (Var \"x2\")))        -- inR 처리 ... 결과가 bool 타입\n",
    "eval caseTm []"
   ]
  },
  {
   "cell_type": "code",
   "execution_count": 27,
   "metadata": {},
   "outputs": [],
   "source": [
    "-- tyof [] caseTm -- 결과는 Just (INT :+ BOOL)"
   ]
  },
  {
   "cell_type": "code",
   "execution_count": 28,
   "metadata": {},
   "outputs": [
    {
     "data": {
      "text/plain": [
       "VinR (VI 6)"
      ]
     },
     "metadata": {},
     "output_type": "display_data"
    }
   ],
   "source": [
    "caseTm2 = -- int + bool 타입을 처리하는 case 식\n",
    "  Case (InL BOOL (I 3))\n",
    "  -- Case (InR INT (B False)) \n",
    "    (Lam (\"x1\", INT) $ InR BOOL (Add (Var \"x1\") (I 3))) -- inL ... 처리 ... 결과가 int 타입\n",
    "    (Lam (\"x2\", BOOL) $ InL INT (Not (Var \"x2\")))        -- inR 처리 ... 결과가 bool 타입\n",
    "eval caseTm2 []"
   ]
  },
  {
   "cell_type": "code",
   "execution_count": 29,
   "metadata": {},
   "outputs": [],
   "source": [
    "-- tyof [] caseTm2 -- 결과는 Just (BOOL :+ INT)"
   ]
  }
 ],
 "metadata": {
  "kernelspec": {
   "display_name": "Haskell",
   "language": "haskell",
   "name": "haskell"
  },
  "language_info": {
   "codemirror_mode": "ihaskell",
   "file_extension": ".hs",
   "name": "haskell",
   "pygments_lexer": "Haskell",
   "version": "8.4.4"
  }
 },
 "nbformat": 4,
 "nbformat_minor": 1
}

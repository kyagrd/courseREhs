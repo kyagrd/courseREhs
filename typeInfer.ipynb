{
 "cells": [
  {
   "cell_type": "markdown",
   "metadata": {},
   "source": [
    "# typedLang\n",
    "cbvLang 노트북에서 정의했던 내용을 가져와서 타입 검사가 용이하도록\n",
    "Expr 문법을 조금 수정하였다."
   ]
  },
  {
   "cell_type": "markdown",
   "metadata": {},
   "source": [
    "$\\displaystyle\n",
    "\\tau ::= \\mathtt{unit} \\mid \\mathtt{bool} \\mid \\mathtt{int} \\mid \\tau \\times \\tau \\mid \\tau + \\tau \\mid \\tau\\to\\tau$"
   ]
  },
  {
   "cell_type": "code",
   "execution_count": 2,
   "metadata": {},
   "outputs": [],
   "source": [
    "-- 변수 이름은 문자열로 나타낸다\n",
    "type Nm = String\n",
    "\n",
    "-- simple types for Expr\n",
    "data Ty\n",
    "  = TVar Nm -- 타입 변수\n",
    "  | UNIT -- 값이 딱 하나 존재\n",
    "  | BOOL -- 값이 두 개 존재\n",
    "  | INT  -- 값이 무한히 많이 존재\n",
    "  | Ty :* Ty   -- product type (pair) 순서쌍 타입 -- 구조체, 레코드\n",
    "  | Ty :+ Ty   -- sum type (tagged union) -- varient, 유니온 태그 있는\n",
    "  | Ty :-> Ty  -- 함수 타입\n",
    "  deriving (Show, Eq)\n",
    "\n",
    "infixr 9 :*\n",
    "infixr 8 :+\n",
    "infixr 7 :->"
   ]
  },
  {
   "cell_type": "code",
   "execution_count": 3,
   "metadata": {},
   "outputs": [],
   "source": [
    "-- 장난감 함수형 언어 = 람다식 + ...\n",
    "data Expr\n",
    "  = Var Nm                 -- x, y, z, ...\n",
    "  | Unit                   -- ()\n",
    "  | B Bool                 -- False, True\n",
    "  | I Int                  -- 0, -1, 1, -2, 2, -3, 3, ...\n",
    "  | Pair Expr Expr         -- (e1,e2)\n",
    "  | Fst Expr               -- fst e\n",
    "  | Snd Expr               -- snd e\n",
    "  | InL Expr               -- InL e\n",
    "  | InR Expr               -- InR e\n",
    "  | Case Expr Expr Expr    -- 하스켈이라면 대략 다음에 해당 case e of { inL x1 -> e1; inR x2 -> e2 }\n",
    "  | Lam Nm Expr            -- \\x.e\n",
    "  | Rec Nm Expr            -- rec f e\n",
    "  | App Expr Expr          -- e1 e2\n",
    "  | If Expr Expr Expr      -- if e then e1 else e2\n",
    "  | Let Nm Expr Expr       -- let x=e2 in e\n",
    "  | Add Expr Expr          -- e1 + e2\n",
    "  | Mul Expr Expr          -- e1 * e2\n",
    "  | Neg Expr               -- - e\n",
    "  | Eq Expr Expr           -- e1 == e2\n",
    "  | Ne Expr Expr           -- e1 /= e2\n",
    "  | Lt Expr Expr           -- e1 <  e2\n",
    "  | Gt Expr Expr           -- e1 >  e2\n",
    "  | Le Expr Expr           -- e1 <= e2\n",
    "  | Ge Expr Expr           -- e1 >= e2\n",
    "  | And Expr Expr          -- e1 && e2\n",
    "  | Or Expr Expr           -- e1 || e2\n",
    "  | Not Expr               -- not e\n",
    "  deriving (Show, Eq)"
   ]
  },
  {
   "cell_type": "code",
   "execution_count": 4,
   "metadata": {},
   "outputs": [],
   "source": [
    "import IHaskell.Display\n",
    "\n",
    "dispTy t = Display [html(\"<code>\"++dpTy t++\"</code>\")]\n",
    "dispExpr e = Display [html(\"<code>\"++dpExpr e++\"</code>\")]\n",
    "\n",
    "\n",
    "dpTy UNIT = \"unit\"\n",
    "dpTy BOOL = \"bool\"\n",
    "dpTy INT = \"int\"\n",
    "dpTy (t1 :-> t2) = dpTyArrL t1++\"->\"++dpTy t2\n",
    "dpTy (t1 :+ t2) = dpTySum t1++\"+\"++dpTyArrL t2\n",
    "dpTy (t1 :* t2) = dpTyProd t1++\"*\"++dpTySum t2\n",
    "\n",
    "dpTyArrL t@(_ :-> _) = paren $ dpTy t\n",
    "dpTyArrL t = dpTy t\n",
    "\n",
    "dpTySum t@(_ :-> _) = paren $ dpTy t\n",
    "dpTySum t@(_ :+ _) = paren $ dpTy t\n",
    "dpTySum t = dpTy t\n",
    "\n",
    "dpTyProd t@(_ :-> _) = paren $ dpTy t\n",
    "dpTyProd t@(_ :+ _) = paren $ dpTy t\n",
    "dpTyProd t@(_ :* _) = paren $ dpTy t\n",
    "dpTyProd t = dpTy t\n",
    "\n",
    "dpExpr (Var x) = x\n",
    "dpExpr (Lam x e) = \"λ\" ++ x ++ \".\" ++ dpExpr e\n",
    "dpExpr (App e1 e2) = dpt e1 ++ \" \" ++ dps e2\n",
    "dpExpr (I n) = show n\n",
    "dpExpr (B b) = show b\n",
    "dpExpr Unit = \"()\"\n",
    "dpExpr (Pair e1 e2) = \"(\"++dpExpr e1++\",\"++dpExpr e2++\")\"\n",
    "dpExpr (Fst e) = \"fst\" ++ dpe e\n",
    "dpExpr (Snd e) = \"snd\" ++ dpe e\n",
    "dpExpr (InL e) = \"inL \" ++ dpe e\n",
    "dpExpr (InR e) = \"inR \" ++ dpe e\n",
    "dpExpr (Case e e1 e2) = \"case \" ++ dpe e ++ \" of { inL: \"++dpExpr e1++\"; inR: \"++dpExpr e2++\" }\"\n",
    "dpExpr (Add e1 e2) = dpe e1++\" + \"++dpe e2\n",
    "dpExpr (Mul e1 e2) = dpe e1++\" * \"++dpe e2\n",
    "dpExpr (Neg e) = \"-\"++dpe e\n",
    "dpExpr (Eq e1 e2) = dpe e1++\" == \"++dpe e2\n",
    "dpExpr (Ne e1 e2) = dpe e1++\" /= \"++dpe e2\n",
    "dpExpr (Lt e1 e2) = dpe e1++\" < \"++dpe e2\n",
    "dpExpr (Gt e1 e2) = dpe e1++\" > \"++dpe e2\n",
    "dpExpr (Le e1 e2) = dpe e1++\" <= \"++dpe e2\n",
    "dpExpr (Ge e1 e2) = dpe e1++\" >= \"++dpe e2\n",
    "dpExpr (And e1 e2) = dpe e1++\" && \"++dpe e2\n",
    "dpExpr (Or e1 e2) = dpe e1++\" || \"++dpe e2\n",
    "dpExpr (Not e) = \"not \"++ dpe e\n",
    "dpExpr (Let x e2 e) = \"let \"++x++\" = \"++dpt e2++\" in \"++dpExpr e\n",
    "dpExpr (Rec f e) = \"rec \"++f++\" \"++dpExpr e\n",
    "dpExpr (If e e1 e2) = \"if \"++dpe e++\" then \"++dpe e1++\" else \"++dpe e2\n",
    "\n",
    "dpt t@(Lam{}) = paren (dpExpr t)\n",
    "dpt t@(Let{}) = paren (dpExpr t)\n",
    "dpt t@(If{})  = paren (dpExpr t)\n",
    "dpt t@(Rec{}) = paren (dpExpr t)\n",
    "dpt t         = dpExpr t\n",
    "\n",
    "dps s@(I _)   = dpExpr s\n",
    "dps s@(B _)   = dpExpr s\n",
    "dps s@Unit    = dpExpr s\n",
    "dps s@(Pair{})    = dpExpr s\n",
    "dps s@(Var{}) = dpExpr s\n",
    "dps s         = paren (dpExpr s)\n",
    "\n",
    "dpe = dps\n",
    "\n",
    "\n",
    "paren s = \"(\" ++ s ++ \")\""
   ]
  },
  {
   "cell_type": "code",
   "execution_count": 5,
   "metadata": {},
   "outputs": [
    {
     "data": {
      "text/plain": [
       "True"
      ]
     },
     "metadata": {},
     "output_type": "display_data"
    },
    {
     "data": {
      "text/plain": [
       "False"
      ]
     },
     "metadata": {},
     "output_type": "display_data"
    },
    {
     "data": {
      "text/plain": [
       "True"
      ]
     },
     "metadata": {},
     "output_type": "display_data"
    },
    {
     "data": {
      "text/plain": [
       "True"
      ]
     },
     "metadata": {},
     "output_type": "display_data"
    },
    {
     "data": {
      "text/plain": [
       "True"
      ]
     },
     "metadata": {},
     "output_type": "display_data"
    }
   ],
   "source": [
    "INT :-> INT :-> INT == INT :-> (INT :-> INT)\n",
    "INT :-> INT :-> INT == (INT :-> INT) :-> INT\n",
    "INT :* INT :+ INT :* INT == (INT :* INT) :+ (INT :* INT)\n",
    "INT :-> INT :+ INT :-> INT == INT :-> (INT :+ INT) :-> INT\n",
    "INT :-> INT :* INT :-> INT == INT :-> (INT :* INT) :-> INT"
   ]
  },
  {
   "cell_type": "code",
   "execution_count": 6,
   "metadata": {},
   "outputs": [
    {
     "data": {
      "text/plain": [
       "\"int->int->int\""
      ]
     },
     "metadata": {},
     "output_type": "display_data"
    },
    {
     "data": {
      "text/plain": [
       "\"int->int->int\""
      ]
     },
     "metadata": {},
     "output_type": "display_data"
    },
    {
     "data": {
      "text/plain": [
       "\"(int->int)->int\""
      ]
     },
     "metadata": {},
     "output_type": "display_data"
    }
   ],
   "source": [
    "dpTy (INT :-> INT :-> INT)\n",
    "dpTy (INT :-> (INT :-> INT))\n",
    "dpTy ((INT :-> INT) :-> INT)"
   ]
  },
  {
   "cell_type": "code",
   "execution_count": 7,
   "metadata": {},
   "outputs": [
    {
     "data": {
      "text/plain": [
       "\"int*int+int*int\""
      ]
     },
     "metadata": {},
     "output_type": "display_data"
    },
    {
     "data": {
      "text/plain": [
       "\"int*(int+int)*int\""
      ]
     },
     "metadata": {},
     "output_type": "display_data"
    },
    {
     "data": {
      "text/plain": [
       "\"int->int+int->int\""
      ]
     },
     "metadata": {},
     "output_type": "display_data"
    },
    {
     "data": {
      "text/plain": [
       "\"int->int+int->int\""
      ]
     },
     "metadata": {},
     "output_type": "display_data"
    },
    {
     "data": {
      "text/plain": [
       "\"int->int*int->int\""
      ]
     },
     "metadata": {},
     "output_type": "display_data"
    },
    {
     "data": {
      "text/plain": [
       "\"(int->int)*int->int\""
      ]
     },
     "metadata": {},
     "output_type": "display_data"
    },
    {
     "data": {
      "text/plain": [
       "\"int->int*(int->int)\""
      ]
     },
     "metadata": {},
     "output_type": "display_data"
    },
    {
     "data": {
      "text/plain": [
       "\"(int->int)*(int->int)\""
      ]
     },
     "metadata": {},
     "output_type": "display_data"
    },
    {
     "data": {
      "text/plain": [
       "\"int*int*int*int\""
      ]
     },
     "metadata": {},
     "output_type": "display_data"
    },
    {
     "data": {
      "text/plain": [
       "\"int+int+int+int\""
      ]
     },
     "metadata": {},
     "output_type": "display_data"
    }
   ],
   "source": [
    "dpTy $ INT :* INT :+ INT :* INT\n",
    "dpTy $ INT :* (INT :+ INT) :* INT\n",
    "dpTy $ INT :-> INT :+ INT :-> INT\n",
    "dpTy $ INT :-> (INT :+ INT) :-> INT\n",
    "\n",
    "dpTy $ INT :-> INT :* INT :-> INT\n",
    "dpTy $ (INT :-> INT) :* INT :-> INT\n",
    "dpTy $ INT :-> INT :* (INT :-> INT)\n",
    "dpTy $ (INT :-> INT) :* (INT :-> INT)\n",
    "\n",
    "dpTy $ INT :* INT :* INT :* INT\n",
    "dpTy $ INT :+ INT :+ INT :+ INT"
   ]
  },
  {
   "cell_type": "code",
   "execution_count": 8,
   "metadata": {},
   "outputs": [
    {
     "data": {
      "text/plain": [
       "λy.(λx.x) ((λx.x) y)"
      ]
     },
     "metadata": {},
     "output_type": "display_data"
    },
    {
     "data": {
      "text/html": [
       "<style>/* Styles used for the Hoogle display in the pager */\n",
       ".hoogle-doc {\n",
       "display: block;\n",
       "padding-bottom: 1.3em;\n",
       "padding-left: 0.4em;\n",
       "}\n",
       ".hoogle-code {\n",
       "display: block;\n",
       "font-family: monospace;\n",
       "white-space: pre;\n",
       "}\n",
       ".hoogle-text {\n",
       "display: block;\n",
       "}\n",
       ".hoogle-name {\n",
       "color: green;\n",
       "font-weight: bold;\n",
       "}\n",
       ".hoogle-head {\n",
       "font-weight: bold;\n",
       "}\n",
       ".hoogle-sub {\n",
       "display: block;\n",
       "margin-left: 0.4em;\n",
       "}\n",
       ".hoogle-package {\n",
       "font-weight: bold;\n",
       "font-style: italic;\n",
       "}\n",
       ".hoogle-module {\n",
       "font-weight: bold;\n",
       "}\n",
       ".hoogle-class {\n",
       "font-weight: bold;\n",
       "}\n",
       ".get-type {\n",
       "color: green;\n",
       "font-weight: bold;\n",
       "font-family: monospace;\n",
       "display: block;\n",
       "white-space: pre-wrap;\n",
       "}\n",
       ".show-type {\n",
       "color: green;\n",
       "font-weight: bold;\n",
       "font-family: monospace;\n",
       "margin-left: 1em;\n",
       "}\n",
       ".mono {\n",
       "font-family: monospace;\n",
       "display: block;\n",
       "}\n",
       ".err-msg {\n",
       "color: red;\n",
       "font-style: italic;\n",
       "font-family: monospace;\n",
       "white-space: pre;\n",
       "display: block;\n",
       "}\n",
       "#unshowable {\n",
       "color: red;\n",
       "font-weight: bold;\n",
       "}\n",
       ".err-msg.in.collapse {\n",
       "padding-top: 0.7em;\n",
       "}\n",
       ".highlight-code {\n",
       "white-space: pre;\n",
       "font-family: monospace;\n",
       "}\n",
       ".suggestion-warning { \n",
       "font-weight: bold;\n",
       "color: rgb(200, 130, 0);\n",
       "}\n",
       ".suggestion-error { \n",
       "font-weight: bold;\n",
       "color: red;\n",
       "}\n",
       ".suggestion-name {\n",
       "font-weight: bold;\n",
       "}\n",
       "</style><code>λy.(λx.x) ((λx.x) y)</code>"
      ]
     },
     "metadata": {},
     "output_type": "display_data"
    }
   ],
   "source": [
    "idExpr = Lam \"x\" (Var \"x\")\n",
    "\n",
    "putStrLn $ dpExpr $ Lam \"y\" (App idExpr (App idExpr (Var \"y\")))\n",
    "\n",
    "dispExpr $ Lam \"y\" (App idExpr (App idExpr (Var \"y\")))"
   ]
  },
  {
   "cell_type": "code",
   "execution_count": 9,
   "metadata": {},
   "outputs": [
    {
     "data": {
      "text/plain": [
       "3 + 4"
      ]
     },
     "metadata": {},
     "output_type": "display_data"
    },
    {
     "data": {
      "text/plain": [
       "let id = (λx.x) in id 5"
      ]
     },
     "metadata": {},
     "output_type": "display_data"
    }
   ],
   "source": [
    "putStrLn $ dpExpr $ I 3 `Add` I 4\n",
    "putStrLn $ dpExpr $ Let \"id\" idExpr (App (Var \"id\") (I 5))"
   ]
  },
  {
   "cell_type": "markdown",
   "metadata": {},
   "source": [
    "----\n",
    "\n",
    "$\\displaystyle\\begin{array}{rcrcl}\n",
    "\\sigma&\\in&\\textit{Env} &=&\n",
    "\\textit{Nm} \\longrightarrow^{\\hspace{-2.7ex}\\textrm{fin}} \\textit{Val} \\\\\n",
    "\\Gamma&\\in&\\textit{TEnv} &=&\n",
    "\\textit{Nm} \\longrightarrow^{\\hspace{-2.7ex}\\textrm{fin}} \\textit{Ty} \\\\\n",
    "v&\\in&\\textit{Val} &=& \\textit{Unit}\\;\\cup\\;\\textit{Bool}\\;\\cup\\;\\textit{Int}\\;\\cup\\;(\\textit{Val} \\times \\textit{Val})\\;\\cup\\; (\\textit{Val} + \\textit{Val})\\;\\cup\\;(\\textit{Expr}_V \\times Env) \\\\\n",
    " &   &\\textit{Unit}&=&\\{ \\pmb{(\\,)} \\} \\\\\n",
    "b&\\in&\\textit{Bool}&=& \\{\\textbf{False},\\textbf{True}\\} \\\\\n",
    "n&\\in&\\textit{Int}&=& \\{\\ldots,-2,-1,0,1,2,\\ldots\\} \\\\\n",
    "\\end{array}$\n",
    "\n",
    "$\\displaystyle\\begin{array}{rcl}\n",
    "\\textit{Expr}_V &\\subset& \\textit{Expr}\\\\\n",
    "\\textit{Expr}_V &=& \\{ \\lambda x:\\tau.e \\mid x\\in\\textit{Nm},~\\tau\\in\\textit{Ty},~e\\in\\textit{Expr}\\}~\\cup~\\\\\n",
    "            & &\\{ \\textbf{rec}~(f:\\tau)~(\\lambda x:\\tau_2.e) \\mid f\\in\\textit{Nm},~x\\in\\textit{Nm},~\\tau,\\tau_2\\in\\textit{Ty},~ e\\in\\textit{Expr}\\}\n",
    "\\end{array}$"
   ]
  },
  {
   "cell_type": "markdown",
   "metadata": {},
   "source": [
    "# 장난감 함수형 언어의 타입 규칙(typing rules)\n",
    "\n",
    "$\\displaystyle \\Gamma \\vdash e : \\tau$\n",
    "\n",
    "타입규칙은 위와 같은 형태의 3항 관계를 정의한다.\n",
    "\n",
    "매우쉽게 타입검사를 하라면 좀더 추가적인 타입 정보를 추가해야 될 곳이 아직은 몇 군데 남아 있다.\n",
    "\n",
    "$\\displaystyle\n",
    " \\frac{}{\\Gamma \\vdash x : \\Gamma(x)}\n",
    "$\n",
    "\n",
    "$~$\n",
    "\n",
    "$\\displaystyle\n",
    " \\frac{\\{x\\mapsto\\tau_1\\}\\Gamma \\vdash e : \\tau_2}{\n",
    "       \\Gamma \\vdash \\lambda x.e ~ : \\tau_1 \\to \\tau_2}\n",
    " \\quad\n",
    " \\frac{\\{f\\mapsto\\tau\\}\\Gamma \\vdash e : \\tau}{\n",
    "       \\Gamma \\vdash \\textbf{rec}\\;f\\;e ~ : \\tau}\n",
    "$\n",
    "\n",
    "$~$\n",
    "\n",
    "$\\displaystyle\n",
    " \\frac{}{\\Gamma \\vdash \\pmb{(\\,)} : \\texttt{unit}}\n",
    " \\quad\n",
    " \\frac{}{\\Gamma \\vdash n : \\texttt{int}}\n",
    " \\quad\n",
    " \\frac{}{\\Gamma \\vdash \\textbf{False} : \\texttt{bool}}\n",
    " \\quad\n",
    " \\frac{}{\\Gamma \\vdash \\textbf{True} : \\texttt{bool}}\n",
    "$\n",
    "\n",
    "$~$\n",
    "\n",
    "$\\displaystyle\n",
    " \\frac{\\Gamma \\vdash e_1:\\tau_1 \\quad \\Gamma \\vdash e_2:\\tau_2}{\n",
    "       \\Gamma \\vdash \\pmb{(}e_1\\pmb{,}\\,e_2\\pmb{)} : \\tau_1\\times\\tau_2}\n",
    " \\quad\n",
    " \\frac{\\Gamma \\vdash e : \\tau_1\\times \\tau_2}{\n",
    "       \\Gamma \\vdash \\textbf{fst}\\;e : \\tau_1}\n",
    " \\quad\n",
    " \\frac{\\Gamma \\vdash e : \\tau_1\\times \\tau_2}{\n",
    "       \\Gamma \\vdash \\textbf{snd}\\;e : \\tau_2}\n",
    "$\n",
    "\n",
    "$~$\n",
    "\n",
    "$\\displaystyle\n",
    " \\frac{\\Gamma \\vdash e : \\tau_1}{\n",
    "       \\Gamma \\vdash \\textbf{inL}\\;e : \\tau_1 + \\tau_2}\n",
    " \\quad\n",
    " \\frac{\\Gamma \\vdash e : \\tau_2}{\n",
    "       \\Gamma \\vdash \\textbf{inR}\\;e : \\tau_1 + \\tau_2}\n",
    "$\n",
    "\n",
    "$~$\n",
    "\n",
    "$\\displaystyle\n",
    " \\frac{\\Gamma \\vdash e : \\tau_1+\\tau_2 \\quad\n",
    "       \\{x_1\\mapsto\\tau_1\\}\\Gamma \\vdash e_1:\\tau \\quad\n",
    "       \\{x_2\\mapsto\\tau_2\\}\\Gamma \\vdash e_2:\\tau}{\n",
    "       \\textbf{case}\\;e\\;\\textbf{of}\\,\\pmb{\\{}\\,\\textbf{inL}\\,\\lambda x_1.e_1\\,\\pmb{;}\\;~\\textbf{inR}\\,\\lambda x_2.e_2\\,\\pmb{\\}} : \\tau}\n",
    "$\n",
    "\n",
    "$~$\n",
    "\n",
    "$\\displaystyle\n",
    " \\frac{\\Gamma \\vdash e_1 : \\tau_2\\to\\tau \\quad \\Gamma \\vdash e_2 : \\tau_2}{\n",
    "       \\Gamma \\vdash e_1~e_2 : \\tau}\n",
    " \\qquad\n",
    " \\frac{\\{x\\mapsto \\tau_1\\}\\Gamma \\vdash e_2 : \\tau_2}{\n",
    "       \\Gamma \\vdash \\textbf{let}~x = e_1 ~\\textbf{in}~ e_2 : \\tau_2}\n",
    "$\n",
    "\n",
    "$~$\n",
    "\n",
    "$\\displaystyle\n",
    " \\frac{\\Gamma \\vdash e : \\texttt{bool} \\quad \\Gamma \\vdash e_1:\\tau \\quad \\Gamma \\vdash e_2:\\tau}{\n",
    "       \\Gamma \\vdash \\textbf{if}~e~\\textbf{then}~e_1~\\textbf{else}~e_2 : \\tau}\n",
    "$"
   ]
  },
  {
   "cell_type": "markdown",
   "metadata": {},
   "source": [
    "```haskell\n",
    "data Maybe a = Nothing | Just a\n",
    "```"
   ]
  },
  {
   "cell_type": "code",
   "execution_count": 10,
   "metadata": {},
   "outputs": [
    {
     "data": {
      "text/html": [
       "<style>/* Styles used for the Hoogle display in the pager */\n",
       ".hoogle-doc {\n",
       "display: block;\n",
       "padding-bottom: 1.3em;\n",
       "padding-left: 0.4em;\n",
       "}\n",
       ".hoogle-code {\n",
       "display: block;\n",
       "font-family: monospace;\n",
       "white-space: pre;\n",
       "}\n",
       ".hoogle-text {\n",
       "display: block;\n",
       "}\n",
       ".hoogle-name {\n",
       "color: green;\n",
       "font-weight: bold;\n",
       "}\n",
       ".hoogle-head {\n",
       "font-weight: bold;\n",
       "}\n",
       ".hoogle-sub {\n",
       "display: block;\n",
       "margin-left: 0.4em;\n",
       "}\n",
       ".hoogle-package {\n",
       "font-weight: bold;\n",
       "font-style: italic;\n",
       "}\n",
       ".hoogle-module {\n",
       "font-weight: bold;\n",
       "}\n",
       ".hoogle-class {\n",
       "font-weight: bold;\n",
       "}\n",
       ".get-type {\n",
       "color: green;\n",
       "font-weight: bold;\n",
       "font-family: monospace;\n",
       "display: block;\n",
       "white-space: pre-wrap;\n",
       "}\n",
       ".show-type {\n",
       "color: green;\n",
       "font-weight: bold;\n",
       "font-family: monospace;\n",
       "margin-left: 1em;\n",
       "}\n",
       ".mono {\n",
       "font-family: monospace;\n",
       "display: block;\n",
       "}\n",
       ".err-msg {\n",
       "color: red;\n",
       "font-style: italic;\n",
       "font-family: monospace;\n",
       "white-space: pre;\n",
       "display: block;\n",
       "}\n",
       "#unshowable {\n",
       "color: red;\n",
       "font-weight: bold;\n",
       "}\n",
       ".err-msg.in.collapse {\n",
       "padding-top: 0.7em;\n",
       "}\n",
       ".highlight-code {\n",
       "white-space: pre;\n",
       "font-family: monospace;\n",
       "}\n",
       ".suggestion-warning { \n",
       "font-weight: bold;\n",
       "color: rgb(200, 130, 0);\n",
       "}\n",
       ".suggestion-error { \n",
       "font-weight: bold;\n",
       "color: red;\n",
       "}\n",
       ".suggestion-name {\n",
       "font-weight: bold;\n",
       "}\n",
       "</style><span class='get-type'>lookup :: forall a b. Eq a => a -> [(a, b)] -> Maybe b</span>"
      ],
      "text/plain": [
       "lookup :: forall a b. Eq a => a -> [(a, b)] -> Maybe b"
      ]
     },
     "metadata": {},
     "output_type": "display_data"
    },
    {
     "data": {
      "text/plain": [
       "Just 4"
      ]
     },
     "metadata": {},
     "output_type": "display_data"
    },
    {
     "data": {
      "text/plain": [
       "Just 5"
      ]
     },
     "metadata": {},
     "output_type": "display_data"
    },
    {
     "data": {
      "text/plain": [
       "Nothing"
      ]
     },
     "metadata": {},
     "output_type": "display_data"
    }
   ],
   "source": [
    ":type lookup\n",
    "lookup 'a' [('a',4),('b',5),('c',6)]\n",
    "lookup 'b' [('a',4),('b',5),('c',6)]\n",
    "lookup 'z' [('a',4),('b',5),('c',6)]"
   ]
  },
  {
   "cell_type": "code",
   "execution_count": 11,
   "metadata": {},
   "outputs": [
    {
     "data": {
      "text/plain": [
       "[\"T0\",\"T1\",\"T2\",\"T3\",\"T4\",\"T5\",\"T6\",\"T7\",\"T8\",\"T9\"]"
      ]
     },
     "metadata": {},
     "output_type": "display_data"
    },
    {
     "data": {
      "text/plain": [
       "[\"T0\",\"T2\",\"T4\",\"T6\",\"T8\"]"
      ]
     },
     "metadata": {},
     "output_type": "display_data"
    },
    {
     "data": {
      "text/plain": [
       "[\"T1\",\"T3\",\"T5\",\"T7\",\"T9\"]"
      ]
     },
     "metadata": {},
     "output_type": "display_data"
    }
   ],
   "source": [
    "tvars = [\"T\"++show i | i<-[0..]]\n",
    "\n",
    "unmerge (x:y:zs) = (x:xs, y:ys) where (xs,ys) = unmerge zs\n",
    "unmerge [x] = ([x], [])\n",
    "unmerge []  = ([], [])\n",
    "\n",
    "unmerge3 (x:y:z:ws) = (x:xs, y:ys, z:zs) where (xs,ys,zs) = unmerge3 ws\n",
    "unmerge3 [x,y] = ([x],[y],[])\n",
    "unmerge3 [x] = ([x], [],[])\n",
    "unmerge3 []  = ([], [],[])\n",
    "\n",
    "take 10 tvars\n",
    "\n",
    "(tvars1, tvars2) = unmerge tvars\n",
    "\n",
    "take 5 tvars1\n",
    "take 5 tvars2"
   ]
  },
  {
   "cell_type": "code",
   "execution_count": 31,
   "metadata": {},
   "outputs": [],
   "source": [
    "type TEnv = [(Nm,Ty)]\n",
    "\n",
    "typeof :: TEnv -> Expr -> [Nm] -> (Maybe Ty, [[(Ty,Ty)]])\n",
    "typeof tenv (Var x) _ = (lookup x tenv, [])\n",
    "typeof _    Unit    _ = (Just UNIT, [])\n",
    "typeof _    (B _)   _ = (Just BOOL, [])\n",
    "typeof _    (I _)   _ = (Just INT, [])\n",
    "typeof tenv (Pair e1 e2) tvars =\n",
    "  case (mt1, mt2) of\n",
    "    (Just t1, Just t2) -> (Just (t1 :* t2), eqns1++eqns2)\n",
    "    _                  -> (Nothing, [])\n",
    "  where\n",
    "    (mt1, eqns1) = typeof tenv e1 tvars1\n",
    "    (mt2, eqns2) = typeof tenv e2 tvars2\n",
    "    (tvars1, tvars2) = unmerge tvars\n",
    "typeof tenv (Fst e) (tv1:tv2:tvars) =\n",
    "  case mt of\n",
    "    Just t -> (Just (TVar tv1), [(t, TVar tv1 :* TVar tv2)]:eqns)\n",
    "    _      -> (Nothing, [])\n",
    "  where\n",
    "    (mt, eqns) = typeof tenv e tvars\n",
    "typeof tenv (Snd e) (tv1:tv2:tvars) =\n",
    "  case mt of\n",
    "    Just t -> (Just (TVar tv2), [(t, TVar tv1 :* TVar tv2)]:eqns)\n",
    "    _      -> (Nothing, [])\n",
    "  where\n",
    "    (mt, eqns) = typeof tenv e tvars\n",
    "typeof tenv (InL e1) (tv:tvars) =\n",
    "  case mt1 of\n",
    "    Just t1 -> (Just (t1 :+ TVar tv), eqns)\n",
    "    _       -> (Nothing, [])\n",
    "  where\n",
    "    (mt1, eqns) = typeof tenv e1 tvars\n",
    "typeof tenv (InR e2) (tv:tvars) =\n",
    "  case mt2 of\n",
    "    Just t2 -> (Just (TVar tv :+ t2), eqns)\n",
    "    _       -> (Nothing, [])\n",
    "  where\n",
    "    (mt2, eqns) = typeof tenv e2 tvars\n",
    "typeof tenv (Case e (Lam x1 e1)\n",
    "                    (Lam x2 e2)) tvars = undefined\n",
    "typeof tenv (Lam x e) (tv:tvars) =\n",
    "  case mt2 of\n",
    "    Just t2 -> (Just (TVar tv :-> t2), eqns)\n",
    "    _       -> (Nothing, [])\n",
    "  where\n",
    "    (mt2, eqns) = typeof ((x,TVar tv):tenv) e tvars\n",
    "typeof tenv (Rec f (Lam x e)) (tv:tvars) = typeof ((f,TVar tv):tenv) (Lam x e) tvars\n",
    "typeof tenv (App e1 e2) (tv:tvars) =\n",
    "   case (mt1, mt2) of\n",
    "     (Just t1, Just t2) -> (Just (TVar tv), [(t1, t2 :-> TVar tv)]:eqns1++eqns2)\n",
    "     _                  -> (Nothing, [])\n",
    "   where\n",
    "     (mt1, eqns1) = typeof tenv e1 tvars1 \n",
    "     (mt2, eqns2) = typeof tenv e2 tvars2\n",
    "     (tvars1, tvars2) = unmerge tvars\n",
    "typeof tenv (If e e1 e2) tvars =\n",
    "  case (mt, mt1, mt2) of\n",
    "    (Just t, Just t1, Just t2) -> (Just t1, [(t,BOOL)]:[(t1,t2)]:eqns++eqns1++eqns2)\n",
    "    _                          -> (Nothing, [])\n",
    "  where\n",
    "    (mt, eqns) = typeof tenv e tvars0\n",
    "    (mt1, eqns1) = typeof tenv e1 tvars1\n",
    "    (mt2, eqns2) = typeof tenv e2 tvars2\n",
    "    (tvars0,tvars1,tvars2) = unmerge3 tvars\n",
    "typeof tenv (Let x e2 e) tvars = typeof tenv (App (Lam x e) e2) tvars\n",
    "typeof tenv (Add e1 e2) tvars =\n",
    "   case (mt1, mt2) of\n",
    "     (Just t1, Just t2) -> (Just INT, [(t1, INT)]:[(t2, INT)]:eqns1++eqns2)\n",
    "     _                  -> (Nothing, [])\n",
    "  where\n",
    "    (mt1, eqns1) = typeof tenv e1 tvars1\n",
    "    (mt2, eqns2) = typeof tenv e2 tvars2\n",
    "    (tvars1,tvars2) = unmerge tvars\n",
    "typeof tenv (Mul e1 e2) tvars = undefined\n",
    "typeof tenv (Neg e) tvars =\n",
    "   case mt of\n",
    "     Just t -> (Just INT, [(t,INT)]:eqns)\n",
    "     _      -> (Nothing, [])\n",
    "   where\n",
    "     (mt, eqns) = typeof tenv e tvars\n",
    "typeof tenv (Eq e1 e2) tvars =\n",
    "   case (mt1, mt2) of\n",
    "     (Just t1, Just t2) -> (Just BOOL, [(t1,t2)]:[(t1,UNIT),(t1,INT),(t1,BOOL)]:eqns1++eqns2)\n",
    "     _                  -> (Nothing, [])\n",
    "  where\n",
    "    (mt1, eqns1) = typeof tenv e1 tvars1\n",
    "    (mt2, eqns2) = typeof tenv e2 tvars2\n",
    "    (tvars1,tvars2) = unmerge tvars\n",
    "typeof tenv (Ne e1 e2) tvars =\n",
    "   case (mt1, mt2) of\n",
    "     (Just t1, Just t2) -> (Just BOOL, [(t1,t2)]:[(t1,UNIT),(t1,INT),(t1,BOOL)]:eqns1++eqns2)\n",
    "     _                  -> (Nothing, [])\n",
    "  where\n",
    "    (mt1, eqns1) = typeof tenv e1 tvars1\n",
    "    (mt2, eqns2) = typeof tenv e2 tvars2\n",
    "    (tvars1,tvars2) = unmerge tvars\n",
    "typeof tenv (Lt e1 e2) tvars =\n",
    "   case (mt1, mt2) of\n",
    "     (Just t1, Just t2) -> (Just BOOL, [(t1,t2)]:[(t1,UNIT),(t1,INT),(t1,BOOL)]:eqns1++eqns2)\n",
    "     _                  -> (Nothing, [])\n",
    "  where\n",
    "    (mt1, eqns1) = typeof tenv e1 tvars1\n",
    "    (mt2, eqns2) = typeof tenv e2 tvars2\n",
    "    (tvars1,tvars2) = unmerge tvars\n",
    "typeof tenv (Gt e1 e2) tvars =\n",
    "   case (mt1, mt2) of\n",
    "     (Just t1, Just t2) -> (Just BOOL, [(t1,t2)]:[(t1,UNIT),(t1,INT),(t1,BOOL)]:eqns1++eqns2)\n",
    "     _                  -> (Nothing, [])\n",
    "  where\n",
    "    (mt1, eqns1) = typeof tenv e1 tvars1\n",
    "    (mt2, eqns2) = typeof tenv e2 tvars2\n",
    "    (tvars1,tvars2) = unmerge tvars\n",
    "typeof tenv (Le e1 e2) tvars =\n",
    "   case (mt1, mt2) of\n",
    "     (Just t1, Just t2) -> (Just BOOL, [(t1,t2)]:[(t1,UNIT),(t1,INT),(t1,BOOL)]:eqns1++eqns2)\n",
    "     _                  -> (Nothing, [])\n",
    "  where\n",
    "    (mt1, eqns1) = typeof tenv e1 tvars1\n",
    "    (mt2, eqns2) = typeof tenv e2 tvars2\n",
    "    (tvars1,tvars2) = unmerge tvars\n",
    "typeof tenv (Ge e1 e2) tvars =\n",
    "   case (mt1, mt2) of\n",
    "     (Just t1, Just t2) -> (Just BOOL, [(t1,t2)]:[(t1,UNIT),(t1,INT),(t1,BOOL)]:eqns1++eqns2)\n",
    "     _                  -> (Nothing, [])\n",
    "  where\n",
    "    (mt1, eqns1) = typeof tenv e1 tvars1\n",
    "    (mt2, eqns2) = typeof tenv e2 tvars2\n",
    "    (tvars1,tvars2) = unmerge tvars\n",
    "typeof tenv (And e1 e2) tvars =\n",
    "   case (mt1, mt2) of\n",
    "     (Just t1, Just t2) -> (Just BOOL, [(t1, BOOL)]:[(t2, BOOL)]:eqns1++eqns2)\n",
    "     _                  -> (Nothing, [])\n",
    "  where\n",
    "    (mt1, eqns1) = typeof tenv e1 tvars1\n",
    "    (mt2, eqns2) = typeof tenv e2 tvars2\n",
    "    (tvars1,tvars2) = unmerge tvars\n",
    "typeof tenv (Or e1 e2) tvars =\n",
    "   case (mt1, mt2) of\n",
    "     (Just t1, Just t2) -> (Just BOOL, [(t1, BOOL)]:[(t2, BOOL)]:eqns1++eqns2)\n",
    "     _                  -> (Nothing, [])\n",
    "  where\n",
    "    (mt1, eqns1) = typeof tenv e1 tvars1\n",
    "    (mt2, eqns2) = typeof tenv e2 tvars2\n",
    "    (tvars1,tvars2) = unmerge tvars\n",
    "typeof tenv (Not e) tvars =\n",
    "   case mt of\n",
    "     Just t -> (Just BOOL, [(t,BOOL)]:eqns)\n",
    "     _      -> (Nothing, [])\n",
    "   where\n",
    "     (mt, eqns) = typeof tenv e tvars"
   ]
  },
  {
   "cell_type": "code",
   "execution_count": 32,
   "metadata": {},
   "outputs": [
    {
     "data": {
      "text/plain": [
       "(Just (TVar \"T0\"),[[(TVar \"T\",TVar \"T2\" :-> TVar \"T0\")],[(TVar \"T\",INT :-> TVar \"T2\")]])"
      ]
     },
     "metadata": {},
     "output_type": "display_data"
    }
   ],
   "source": [
    "typeof [(\"f\", TVar \"T\"), (\"x\",INT)] (App (Var \"f\") (App (Var \"f\") (Var \"x\"))) tvars"
   ]
  },
  {
   "cell_type": "code",
   "execution_count": 33,
   "metadata": {},
   "outputs": [
    {
     "data": {
      "text/plain": [
       "(Just (TVar \"T1\" :-> TVar \"T2\"),[[(TVar \"T0\",TVar \"T4\" :-> TVar \"T2\")],[(TVar \"T0\",TVar \"T1\" :-> TVar \"T4\")]])"
      ]
     },
     "metadata": {},
     "output_type": "display_data"
    }
   ],
   "source": [
    "typeof [] (Rec \"f\" (Lam \"x\" (App (Var \"f\") (App (Var \"f\") (Var \"x\"))))) tvars"
   ]
  },
  {
   "cell_type": "code",
   "execution_count": 30,
   "metadata": {},
   "outputs": [
    {
     "data": {
      "text/plain": [
       "(Just BOOL,[[(BOOL,BOOL)]])"
      ]
     },
     "metadata": {},
     "output_type": "display_data"
    },
    {
     "data": {
      "text/plain": [
       "(Just BOOL,[[(INT,BOOL)]])"
      ]
     },
     "metadata": {},
     "output_type": "display_data"
    },
    {
     "data": {
      "text/plain": [
       "(Nothing,[])"
      ]
     },
     "metadata": {},
     "output_type": "display_data"
    },
    {
     "data": {
      "text/plain": [
       "(Just BOOL,[[(BOOL,BOOL)]])"
      ]
     },
     "metadata": {},
     "output_type": "display_data"
    }
   ],
   "source": [
    "typeof [] (Not (B True)) tvars\n",
    "typeof [] (Not (I 22)) tvars\n",
    "typeof [] (Not (Var \"x\")) tvars\n",
    "typeof [(\"x\",BOOL)] (Not (Var \"x\")) tvars"
   ]
  },
  {
   "cell_type": "code",
   "execution_count": null,
   "metadata": {},
   "outputs": [],
   "source": []
  }
 ],
 "metadata": {
  "kernelspec": {
   "display_name": "Haskell",
   "language": "haskell",
   "name": "haskell"
  },
  "language_info": {
   "codemirror_mode": "ihaskell",
   "file_extension": ".hs",
   "name": "haskell",
   "pygments_lexer": "Haskell",
   "version": "8.4.4"
  }
 },
 "nbformat": 4,
 "nbformat_minor": 1
}
